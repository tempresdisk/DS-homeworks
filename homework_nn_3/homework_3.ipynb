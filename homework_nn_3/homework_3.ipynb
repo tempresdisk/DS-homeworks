{
 "cells": [
  {
   "cell_type": "code",
   "execution_count": 3,
   "id": "c82dbfa8",
   "metadata": {},
   "outputs": [],
   "source": [
    "import torch\n",
    "import torch.nn as nn\n",
    "import torchvision.models as models\n",
    "from torchvision import datasets\n",
    "from torch.utils.data import DataLoader\n",
    "import numpy\n",
    "import matplotlib.pyplot as plt\n",
    "import matplotlib\n",
    "import warnings\n",
    "\n",
    "warnings.filterwarnings('ignore')"
   ]
  },
  {
   "cell_type": "markdown",
   "id": "730cd6ee",
   "metadata": {},
   "source": [
    "### 1. Обучить AE собственной архитектуры на MNIST"
   ]
  },
  {
   "cell_type": "code",
   "execution_count": 2,
   "id": "91ea083b",
   "metadata": {},
   "outputs": [],
   "source": [
    "#hyper params\n",
    "num_epoch = 5\n",
    "cuda_device = -1\n",
    "batch_size = 128\n",
    "device = torch.device(\"cuda\") if torch.cuda.is_available() else torch.device(\"cpu\")"
   ]
  },
  {
   "cell_type": "code",
   "execution_count": 4,
   "id": "ab2225af",
   "metadata": {},
   "outputs": [],
   "source": [
    "class Encoder(nn.Module):\n",
    "    # 28*28 -> hidden -> out\n",
    "    def __init__(self, input_dim, hidden_dim, latent_dim):\n",
    "        super().__init__()\n",
    "        self.linear1 = nn.Linear(input_dim, hidden_dim)\n",
    "        self.dropout1 = nn.Dropout(0.15)\n",
    "        self.linear2 = nn.Linear(hidden_dim, hidden_dim)\n",
    "        self.dropout2 = nn.Dropout(0.15)\n",
    "        self.linear3 = nn.Linear(hidden_dim, latent_dim)\n",
    "\n",
    "        self.activation = nn.Sigmoid()\n",
    "\n",
    "    def forward(self, x):\n",
    "        x = self.dropout1(self.activation(self.linear1(x)))\n",
    "        x = self.dropout2(self.activation(self.linear2(x)))\n",
    "        x = self.activation(self.linear3(x))\n",
    "\n",
    "        return x\n",
    "\n",
    "\n",
    "class Decoder(nn.Module):\n",
    "    # encoder_out -> hidden -> 28*28\n",
    "    def __init__(self, latent_dim, hidden_dim, out_dim):\n",
    "        super().__init__()\n",
    "        self.linear1 = nn.Linear(latent_dim, hidden_dim)\n",
    "        self.dropout1 = nn.Dropout(0.15)\n",
    "        self.linear2 = nn.Linear(hidden_dim, hidden_dim)\n",
    "        self.dropout2 = nn.Dropout(0.15)\n",
    "        self.linear3 = nn.Linear(hidden_dim, out_dim)\n",
    "\n",
    "        self.activation = nn.Sigmoid()\n",
    "\n",
    "    def forward(self, x):\n",
    "        x = self.dropout1(self.activation(self.linear1(x)))\n",
    "        x = self.dropout2(self.activation(self.linear2(x)))\n",
    "        x = self.activation(self.linear3(x))\n",
    "\n",
    "        return x\n",
    "\n",
    "\n",
    "class ClassicAutoEncoder(nn.Module):\n",
    "    def __init__(self, input_dim, enc_hidden_dim, dec_hidden_dim, latent_dim):\n",
    "        super().__init__()\n",
    "        self.encoder = Encoder(input_dim, enc_hidden_dim, latent_dim)\n",
    "        self.decoder = Decoder(latent_dim, dec_hidden_dim, input_dim)\n",
    "\n",
    "    def forward(self, x):\n",
    "        x = self.encoder(x)\n",
    "        x = self.decoder(x)\n",
    "\n",
    "        return x"
   ]
  },
  {
   "cell_type": "code",
   "execution_count": 5,
   "id": "ceb2f231",
   "metadata": {},
   "outputs": [],
   "source": [
    "def collate_fn(data):\n",
    "    pics = []\n",
    "    target = []\n",
    "    for item in data:\n",
    "\n",
    "        pics.append(numpy.array(item[0]))\n",
    "        target.append(item[1])\n",
    "    return {\n",
    "        'data': torch.from_numpy(numpy.array(pics)).float() / 255,\n",
    "        'target': torch.from_numpy(numpy.array(target)),\n",
    "    }"
   ]
  },
  {
   "cell_type": "code",
   "execution_count": 6,
   "id": "8cf51ae8",
   "metadata": {},
   "outputs": [
    {
     "data": {
      "text/plain": [
       "ClassicAutoEncoder(\n",
       "  (encoder): Encoder(\n",
       "    (linear1): Linear(in_features=784, out_features=200, bias=True)\n",
       "    (dropout1): Dropout(p=0.15, inplace=False)\n",
       "    (linear2): Linear(in_features=200, out_features=200, bias=True)\n",
       "    (dropout2): Dropout(p=0.15, inplace=False)\n",
       "    (linear3): Linear(in_features=200, out_features=32, bias=True)\n",
       "    (activation): Sigmoid()\n",
       "  )\n",
       "  (decoder): Decoder(\n",
       "    (linear1): Linear(in_features=32, out_features=300, bias=True)\n",
       "    (dropout1): Dropout(p=0.15, inplace=False)\n",
       "    (linear2): Linear(in_features=300, out_features=300, bias=True)\n",
       "    (dropout2): Dropout(p=0.15, inplace=False)\n",
       "    (linear3): Linear(in_features=300, out_features=784, bias=True)\n",
       "    (activation): Sigmoid()\n",
       "  )\n",
       ")"
      ]
     },
     "execution_count": 6,
     "metadata": {},
     "output_type": "execute_result"
    }
   ],
   "source": [
    "model = ClassicAutoEncoder(28*28, 200, 300, 32)\n",
    "model.train()\n",
    "model.to(device)"
   ]
  },
  {
   "cell_type": "code",
   "execution_count": 7,
   "id": "8fce9495",
   "metadata": {},
   "outputs": [],
   "source": [
    "#optimizer\n",
    "optim = torch.optim.Adam(model.parameters(), lr=0.001)"
   ]
  },
  {
   "cell_type": "code",
   "execution_count": 9,
   "id": "29edaf55",
   "metadata": {},
   "outputs": [],
   "source": [
    "#dataset\n",
    "dataset = datasets.MNIST('.', download=False)"
   ]
  },
  {
   "cell_type": "code",
   "execution_count": 10,
   "id": "7140f68b",
   "metadata": {},
   "outputs": [],
   "source": [
    "#loss\n",
    "loss_func = nn.MSELoss()"
   ]
  },
  {
   "cell_type": "code",
   "execution_count": 12,
   "id": "0367b637",
   "metadata": {},
   "outputs": [
    {
     "name": "stdout",
     "output_type": "stream",
     "text": [
      "epoch: 0\n",
      "tensor(0.0394, grad_fn=<MseLossBackward0>)\n",
      "tensor(0.0398, grad_fn=<MseLossBackward0>)\n",
      "tensor(0.0415, grad_fn=<MseLossBackward0>)\n",
      "tensor(0.0403, grad_fn=<MseLossBackward0>)\n",
      "tensor(0.0379, grad_fn=<MseLossBackward0>)\n",
      "epoch: 1\n",
      "tensor(0.0385, grad_fn=<MseLossBackward0>)\n",
      "tensor(0.0380, grad_fn=<MseLossBackward0>)\n",
      "tensor(0.0376, grad_fn=<MseLossBackward0>)\n",
      "tensor(0.0358, grad_fn=<MseLossBackward0>)\n",
      "tensor(0.0348, grad_fn=<MseLossBackward0>)\n",
      "epoch: 2\n",
      "tensor(0.0350, grad_fn=<MseLossBackward0>)\n",
      "tensor(0.0342, grad_fn=<MseLossBackward0>)\n",
      "tensor(0.0335, grad_fn=<MseLossBackward0>)\n",
      "tensor(0.0323, grad_fn=<MseLossBackward0>)\n",
      "tensor(0.0353, grad_fn=<MseLossBackward0>)\n",
      "epoch: 3\n",
      "tensor(0.0350, grad_fn=<MseLossBackward0>)\n",
      "tensor(0.0334, grad_fn=<MseLossBackward0>)\n",
      "tensor(0.0333, grad_fn=<MseLossBackward0>)\n",
      "tensor(0.0329, grad_fn=<MseLossBackward0>)\n",
      "tensor(0.0341, grad_fn=<MseLossBackward0>)\n",
      "epoch: 4\n",
      "tensor(0.0315, grad_fn=<MseLossBackward0>)\n",
      "tensor(0.0332, grad_fn=<MseLossBackward0>)\n",
      "tensor(0.0334, grad_fn=<MseLossBackward0>)\n",
      "tensor(0.0319, grad_fn=<MseLossBackward0>)\n",
      "tensor(0.0317, grad_fn=<MseLossBackward0>)\n"
     ]
    }
   ],
   "source": [
    "#dataloder\n",
    "for epoch in range(num_epoch):\n",
    "    dataloader = DataLoader(\n",
    "        dataset=dataset,\n",
    "        collate_fn=collate_fn,\n",
    "        batch_size=batch_size,\n",
    "        shuffle=True,\n",
    "        drop_last=True,\n",
    "    )\n",
    "    print(f'epoch: {epoch}')\n",
    "    for step, batch in enumerate(dataloader):\n",
    "        data = batch['data'].to(device).view(batch['data'].size(0), -1)\n",
    "        optim.zero_grad()\n",
    "        predict = model(data)\n",
    "        loss = loss_func(predict, data)\n",
    "        loss.backward()\n",
    "        optim.step()\n",
    "        if (step % 100 == 0):\n",
    "            print(loss)"
   ]
  },
  {
   "cell_type": "code",
   "execution_count": 17,
   "id": "0ee93e35",
   "metadata": {},
   "outputs": [
    {
     "name": "stdout",
     "output_type": "stream",
     "text": [
      "31095\n"
     ]
    }
   ],
   "source": [
    "with torch.no_grad():\n",
    "    model.eval()\n",
    "    test = dataset.data[1].view(1,-1).long() / 255\n",
    "    test = test.to(device)\n",
    "    predict = model(test)\n",
    "    test = test[0].view(28, 28).detach().cpu().numpy()\n",
    "    print((test*255).astype(int).sum())"
   ]
  },
  {
   "cell_type": "code",
   "execution_count": 18,
   "id": "d4475caa",
   "metadata": {},
   "outputs": [
    {
     "data": {
      "image/png": "[encoded data removed]",
      "text/plain": [
       "<Figure size 432x288 with 1 Axes>"
      ]
     },
     "metadata": {
      "needs_background": "light"
     },
     "output_type": "display_data"
    }
   ],
   "source": [
    "plt.imshow(test)\n",
    "plt.show()"
   ]
  },
  {
   "cell_type": "markdown",
   "id": "e94a0e15",
   "metadata": {},
   "source": [
    "### 2. Обучить VAE собственной архитектуры на MNIST"
   ]
  },
  {
   "cell_type": "code",
   "execution_count": 19,
   "id": "218d1863",
   "metadata": {},
   "outputs": [],
   "source": [
    "num_epoch = 10\n",
    "cuda_device = -1\n",
    "batch_size = 256\n",
    "device = torch.device(\"cuda\") if torch.cuda.is_available() else torch.device(\"cpu\")"
   ]
  },
  {
   "cell_type": "code",
   "execution_count": 20,
   "id": "3e44f0e0",
   "metadata": {},
   "outputs": [],
   "source": [
    "class Encoder(nn.Module):\n",
    "    # 28*28 -> hidden -> out\n",
    "    def __init__(self, in_chan, hidden_ch, out_channels):\n",
    "        super().__init__()\n",
    "        #conv2d -> maxpool2d -> conv2d -> maxpool2d -> conv2d\n",
    "        self.conv1 = nn.Conv2d(in_chan, hidden_ch, kernel_size=5, stride=1, padding=2) # 28 x28\n",
    "        self.pool1 = nn.MaxPool2d(2, 2) # 14 x 14\n",
    "        self.conv2 = nn.Conv2d(hidden_ch, hidden_ch, kernel_size=3, stride=1, padding=1)  # 14 x 14\n",
    "        self.pool2 = nn.MaxPool2d(2, 2)  # 7 x 7\n",
    "        self.conv_mu = nn.Conv2d(hidden_ch, out_channels, kernel_size=3, stride=1, padding=1)\n",
    "        self.conv_sigma = nn.Conv2d(hidden_ch, out_channels, kernel_size=3, stride=1, padding=1)\n",
    "\n",
    "        self.activation = nn.Sigmoid()\n",
    "\n",
    "    def forward(self, x): # -> 7x7\n",
    "        x = self.activation(self.pool1(self.conv1(x)))\n",
    "        x = self.activation(self.pool2(self.conv2(x)))\n",
    "        mu = self.activation(self.conv_mu(x))\n",
    "        sigma = torch.exp(self.conv_sigma(x))\n",
    "\n",
    "        return mu, sigma\n",
    "    \n",
    "class Decoder(nn.Module):\n",
    "    #conv2d -> upsampling2d -> conv2d -> upsampling2d -> conv2d\n",
    "    def __init__(self, in_chan, hidden_ch, out_chan):\n",
    "        super().__init__()\n",
    "        self.conv1 = nn.Conv2d(in_chan, hidden_ch, kernel_size=3, stride=1, padding=1)  # 7 x 7\n",
    "        self.upsample1 = nn.UpsamplingBilinear2d(scale_factor=2)  # 14 x 14\n",
    "        self.conv2 = nn.Conv2d(hidden_ch, hidden_ch, kernel_size=3, stride=1, padding=1)  # 14 x 14\n",
    "        self.upsample2 = nn.UpsamplingBilinear2d(scale_factor=2)  # 28 x 28\n",
    "        self.conv3 = nn.Conv2d(hidden_ch, out_chan, kernel_size=5, stride=1, padding=2)\n",
    "\n",
    "        self.activation = nn.Sigmoid()\n",
    "\n",
    "    def forward(self, x): # -> 28 x 28\n",
    "        x = self.activation(self.upsample1(self.conv1(x)))\n",
    "        x = self.activation(self.upsample2(self.conv2(x)))\n",
    "        x = self.activation(self.conv3(x))\n",
    "\n",
    "        return x\n",
    "\n",
    "\n",
    "class VarAutoEncoder(nn.Module):\n",
    "    def __init__(self, input_ch, enc_hidden_ch, dec_hidden_ch, latent_ch):\n",
    "        super().__init__()\n",
    "        self.encoder = Encoder(input_ch, enc_hidden_ch, latent_ch)\n",
    "        self.decoder = Decoder(latent_ch, dec_hidden_ch, input_ch)\n",
    "\n",
    "    def forward(self, x):\n",
    "        mu, sigma = self.encoder(x)\n",
    "        x = sampling(mu, sigma)\n",
    "        x = self.decoder(x)\n",
    "\n",
    "        return x, mu, sigma\n",
    "\n",
    "\n",
    "# sampling\n",
    "def sampling(mu, sigma):\n",
    "    return mu + sigma * torch.normal(torch.zeros_like(sigma),\n",
    "                                     torch.ones_like(sigma))\n",
    "\n",
    "\n",
    "def kl_loss(mu, sigma):\n",
    "    p = torch.distributions.Normal(mu, sigma)\n",
    "    q = torch.distributions.Normal(torch.zeros_like(mu), torch.ones_like(sigma))\n",
    "\n",
    "    return torch.distributions.kl_divergence(p, q).mean()"
   ]
  },
  {
   "cell_type": "code",
   "execution_count": 21,
   "id": "2c841395",
   "metadata": {},
   "outputs": [
    {
     "data": {
      "text/plain": [
       "VarAutoEncoder(\n",
       "  (encoder): Encoder(\n",
       "    (conv1): Conv2d(1, 10, kernel_size=(5, 5), stride=(1, 1), padding=(2, 2))\n",
       "    (pool1): MaxPool2d(kernel_size=2, stride=2, padding=0, dilation=1, ceil_mode=False)\n",
       "    (conv2): Conv2d(10, 10, kernel_size=(3, 3), stride=(1, 1), padding=(1, 1))\n",
       "    (pool2): MaxPool2d(kernel_size=2, stride=2, padding=0, dilation=1, ceil_mode=False)\n",
       "    (conv_mu): Conv2d(10, 1, kernel_size=(3, 3), stride=(1, 1), padding=(1, 1))\n",
       "    (conv_sigma): Conv2d(10, 1, kernel_size=(3, 3), stride=(1, 1), padding=(1, 1))\n",
       "    (activation): Sigmoid()\n",
       "  )\n",
       "  (decoder): Decoder(\n",
       "    (conv1): Conv2d(1, 10, kernel_size=(3, 3), stride=(1, 1), padding=(1, 1))\n",
       "    (upsample1): UpsamplingBilinear2d(scale_factor=2.0, mode=bilinear)\n",
       "    (conv2): Conv2d(10, 10, kernel_size=(3, 3), stride=(1, 1), padding=(1, 1))\n",
       "    (upsample2): UpsamplingBilinear2d(scale_factor=2.0, mode=bilinear)\n",
       "    (conv3): Conv2d(10, 1, kernel_size=(5, 5), stride=(1, 1), padding=(2, 2))\n",
       "    (activation): Sigmoid()\n",
       "  )\n",
       ")"
      ]
     },
     "execution_count": 21,
     "metadata": {},
     "output_type": "execute_result"
    }
   ],
   "source": [
    "model_vae = VarAutoEncoder(1, 10, 10, 1)\n",
    "model_vae.train()\n",
    "model_vae.to(device)"
   ]
  },
  {
   "cell_type": "code",
   "execution_count": 22,
   "id": "cf7d92c6",
   "metadata": {},
   "outputs": [],
   "source": [
    "#optimizer\n",
    "optim = torch.optim.Adam(model_vae.parameters(), lr=0.001)"
   ]
  },
  {
   "cell_type": "code",
   "execution_count": 23,
   "id": "f9575045",
   "metadata": {},
   "outputs": [],
   "source": [
    "#loss\n",
    "criterion = nn.MSELoss()"
   ]
  },
  {
   "cell_type": "code",
   "execution_count": 26,
   "id": "e3e4d6d2",
   "metadata": {},
   "outputs": [
    {
     "name": "stdout",
     "output_type": "stream",
     "text": [
      "epoch: 0\n",
      "kl_loss: 0.004905720241367817, criterion_loss: 0.10077963024377823\n",
      "kl_loss: 0.0015488872304558754, criterion_loss: 0.09624964743852615\n",
      "kl_loss: 0.0008056904189288616, criterion_loss: 0.09102003276348114\n",
      "epoch: 1\n",
      "kl_loss: 0.0006759946700185537, criterion_loss: 0.08561217039823532\n",
      "kl_loss: 0.00044096438796259463, criterion_loss: 0.08443830162286758\n",
      "kl_loss: 0.00031492026755586267, criterion_loss: 0.08199407905340195\n",
      "epoch: 2\n",
      "kl_loss: 0.00028456305153667927, criterion_loss: 0.08607540279626846\n",
      "kl_loss: 0.00021831518097314984, criterion_loss: 0.0849464014172554\n",
      "kl_loss: 0.00017418881179764867, criterion_loss: 0.0817333310842514\n",
      "epoch: 3\n",
      "kl_loss: 0.000161705058417283, criterion_loss: 0.08153034746646881\n",
      "kl_loss: 0.00013345308252610266, criterion_loss: 0.08261124044656754\n",
      "kl_loss: 0.0001132567340391688, criterion_loss: 0.07999932020902634\n",
      "epoch: 4\n",
      "kl_loss: 0.00010759594442788512, criterion_loss: 0.08051405102014542\n",
      "kl_loss: 9.385337762068957e-05, criterion_loss: 0.08101602643728256\n",
      "kl_loss: 8.220483141485602e-05, criterion_loss: 0.08054450154304504\n",
      "epoch: 5\n",
      "kl_loss: 7.943939999677241e-05, criterion_loss: 0.08023212105035782\n",
      "kl_loss: 7.20225361874327e-05, criterion_loss: 0.08188167959451675\n",
      "kl_loss: 6.709322769893333e-05, criterion_loss: 0.0802202820777893\n",
      "epoch: 6\n",
      "kl_loss: 6.55849653412588e-05, criterion_loss: 0.07954015582799911\n",
      "kl_loss: 6.420121644623578e-05, criterion_loss: 0.08003202080726624\n",
      "kl_loss: 6.774289795430377e-05, criterion_loss: 0.07892529666423798\n",
      "epoch: 7\n",
      "kl_loss: 7.013030699454248e-05, criterion_loss: 0.08124180883169174\n",
      "kl_loss: 8.970229828264564e-05, criterion_loss: 0.07939871400594711\n",
      "kl_loss: 0.00011195511615369469, criterion_loss: 0.07984253764152527\n",
      "epoch: 8\n",
      "kl_loss: 0.00010961955558741465, criterion_loss: 0.08189497888088226\n",
      "kl_loss: 0.0001467484689783305, criterion_loss: 0.08201369643211365\n",
      "kl_loss: 0.0002297597675351426, criterion_loss: 0.07840172201395035\n",
      "epoch: 9\n",
      "kl_loss: 0.00022351994994096458, criterion_loss: 0.07847187668085098\n",
      "kl_loss: 0.0003180259664077312, criterion_loss: 0.07963424921035767\n",
      "kl_loss: 0.0005198090802878141, criterion_loss: 0.0800367146730423\n"
     ]
    }
   ],
   "source": [
    "for epoch in range(num_epoch):\n",
    "    dataloader = DataLoader(\n",
    "        dataset=dataset,\n",
    "        collate_fn=collate_fn,\n",
    "        batch_size=batch_size,\n",
    "        shuffle=True,\n",
    "        drop_last=True,\n",
    "    )\n",
    "    print(f'epoch: {epoch}')\n",
    "    for step, batch in enumerate(dataloader):\n",
    "        data = batch['data'].to(device).unsqueeze(1)\n",
    "        optim.zero_grad()\n",
    "        predict, mu, sigma = model_vae(data)\n",
    "        #loss\n",
    "        kl = kl_loss(mu, sigma)\n",
    "        crit_loss = criterion(data, predict)\n",
    "        loss = 0.1 * kl + crit_loss\n",
    "        loss.backward()\n",
    "        optim.step()\n",
    "        if (step % 100 == 0):\n",
    "            print(f'kl_loss: {kl.item()}, criterion_loss: {crit_loss.item()}')"
   ]
  },
  {
   "cell_type": "code",
   "execution_count": 27,
   "id": "7809503c",
   "metadata": {},
   "outputs": [
    {
     "name": "stdout",
     "output_type": "stream",
     "text": [
      "33676\n"
     ]
    }
   ],
   "source": [
    "with torch.no_grad():\n",
    "    model_vae.eval()\n",
    "    test = dataset.data[255].unsqueeze(0).unsqueeze(0).float() / 255\n",
    "    test = test.to(device)\n",
    "    predict = model_vae(test)\n",
    "    test = test[0].view(28, 28).detach().cpu().numpy()\n",
    "    print((test*255).astype(int).sum())"
   ]
  }
 ],
 "metadata": {
  "kernelspec": {
   "display_name": "Python 3 (ipykernel)",
   "language": "python",
   "name": "python3"
  },
  "language_info": {
   "codemirror_mode": {
    "name": "ipython",
    "version": 3
   },
   "file_extension": ".py",
   "mimetype": "text/x-python",
   "name": "python",
   "nbconvert_exporter": "python",
   "pygments_lexer": "ipython3",
   "version": "3.9.6"
  }
 },
 "nbformat": 4,
 "nbformat_minor": 5
}
