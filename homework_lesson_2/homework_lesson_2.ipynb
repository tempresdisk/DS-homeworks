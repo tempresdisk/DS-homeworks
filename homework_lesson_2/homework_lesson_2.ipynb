{
 "cells": [
  {
   "cell_type": "markdown",
   "id": "ffd10cbe",
   "metadata": {},
   "source": [
    "### Импорт необходимых библиотек"
   ]
  },
  {
   "cell_type": "code",
   "execution_count": 42,
   "id": "1739a945",
   "metadata": {},
   "outputs": [],
   "source": [
    "import os\n",
    "import sqlite3\n",
    "import time\n",
    "\n",
    "import pandas as pd\n",
    "import requests\n",
    "from tqdm import tqdm"
   ]
  },
  {
   "cell_type": "code",
   "execution_count": 2,
   "id": "1cedcd56",
   "metadata": {},
   "outputs": [],
   "source": [
    "limit_ = 6000  # 6500 уже даёт статус 504\n",
    "offset_ = 1\n",
    "url = f'https://наш.дом.рф/сервисы/api/kn/object?offset={offset_}&limit={limit_}&sortField=devId.devShortCleanNm&sortType=asc&objStatus=0'"
   ]
  },
  {
   "cell_type": "markdown",
   "id": "ae5ae4e5",
   "metadata": {},
   "source": [
    "### GET запрос для получения данных"
   ]
  },
  {
   "cell_type": "code",
   "execution_count": 3,
   "id": "98cb64b5",
   "metadata": {},
   "outputs": [],
   "source": [
    "res = requests.get(url)\n",
    "objects_data = res.json()"
   ]
  },
  {
   "cell_type": "code",
   "execution_count": 4,
   "id": "7df61c0b",
   "metadata": {},
   "outputs": [
    {
     "data": {
      "text/plain": [
       "6000"
      ]
     },
     "execution_count": 4,
     "metadata": {},
     "output_type": "execute_result"
    }
   ],
   "source": [
    "len(objects_data['data']['list'])"
   ]
  },
  {
   "cell_type": "markdown",
   "id": "7dfe025f",
   "metadata": {},
   "source": [
    "### Получение списка id объектов для получения данных для каждого из объектов"
   ]
  },
  {
   "cell_type": "code",
   "execution_count": 5,
   "id": "24bbde80",
   "metadata": {},
   "outputs": [],
   "source": [
    "objects_ids = [str(object_data['objId']) for object_data in objects_data['data']['list']]"
   ]
  },
  {
   "cell_type": "code",
   "execution_count": 6,
   "id": "cca537e6",
   "metadata": {},
   "outputs": [
    {
     "data": {
      "text/plain": [
       "6000"
      ]
     },
     "execution_count": 6,
     "metadata": {},
     "output_type": "execute_result"
    }
   ],
   "source": [
    "len(objects_ids)"
   ]
  },
  {
   "cell_type": "markdown",
   "id": "7ab3a4fb",
   "metadata": {},
   "source": [
    "### Получение списка расширенных данных по каждому из объектов"
   ]
  },
  {
   "cell_type": "code",
   "execution_count": 9,
   "id": "3beb44fe",
   "metadata": {},
   "outputs": [],
   "source": [
    "def get_every_object_data(objects_ids: list) -> list:\n",
    "    result_list = []\n",
    "    for object_id in tqdm(objects_ids):\n",
    "        try:\n",
    "            url = f'https://xn--80az8a.xn--d1aqf.xn--p1ai/%D1%81%D0%B5%D1%80%D0%B2%D0%B8%D1%81%D1%8B/api/object/{object_id}'\n",
    "            resp = requests.get(url)\n",
    "            data = resp.json()['data']\n",
    "            if type(data) == dict:  # для отсеивания \"Не получено данных\"\n",
    "                result_list.append(data)\n",
    "            time.sleep(.5)  # чтобы не забанили IP-адрес\n",
    "        except Exception:  # т.к. обращение идёт к стороннему сервису, что может вызывать ошибки\n",
    "            continue\n",
    "    return result_list"
   ]
  },
  {
   "cell_type": "code",
   "execution_count": 14,
   "id": "d2d31844",
   "metadata": {},
   "outputs": [
    {
     "name": "stderr",
     "output_type": "stream",
     "text": [
      "100%|██████████████████████████████████████████████████████████████████████████████████████████████████████████████████████████████████████████| 6000/6000 [1:13:02<00:00,  1.37it/s]\n"
     ]
    }
   ],
   "source": [
    "single_objects_data_list = get_every_object_data(objects_ids)"
   ]
  },
  {
   "cell_type": "markdown",
   "id": "d2c94efd",
   "metadata": {},
   "source": [
    "### Создание pandas.DataFrame"
   ]
  },
  {
   "cell_type": "code",
   "execution_count": 15,
   "id": "b59d9d4f",
   "metadata": {},
   "outputs": [
    {
     "data": {
      "text/html": [
       "<div>\n",
       "<style scoped>\n",
       "    .dataframe tbody tr th:only-of-type {\n",
       "        vertical-align: middle;\n",
       "    }\n",
       "\n",
       "    .dataframe tbody tr th {\n",
       "        vertical-align: top;\n",
       "    }\n",
       "\n",
       "    .dataframe thead th {\n",
       "        text-align: right;\n",
       "    }\n",
       "</style>\n",
       "<table border=\"1\" class=\"dataframe\">\n",
       "  <thead>\n",
       "    <tr style=\"text-align: right;\">\n",
       "      <th></th>\n",
       "      <th>id</th>\n",
       "      <th>pdId</th>\n",
       "      <th>region</th>\n",
       "      <th>address</th>\n",
       "      <th>floorMin</th>\n",
       "      <th>floorMax</th>\n",
       "      <th>objElemLivingCnt</th>\n",
       "      <th>objReady100PercDt</th>\n",
       "      <th>wallMaterialShortDesc</th>\n",
       "      <th>objLkFinishTypeDesc</th>\n",
       "      <th>...</th>\n",
       "      <th>metro.time</th>\n",
       "      <th>metro.isWalk</th>\n",
       "      <th>metro.colors</th>\n",
       "      <th>greenAreaIndexValue</th>\n",
       "      <th>airQualityIndexValue</th>\n",
       "      <th>complexShortNm</th>\n",
       "      <th>developer.bankruptStage.bankruptStageCd</th>\n",
       "      <th>developer.bankruptStage.bankruptStageDesc</th>\n",
       "      <th>developer.bankruptStage.bankruptLawUrl</th>\n",
       "      <th>developer.orgBankruptMsgDttm</th>\n",
       "    </tr>\n",
       "  </thead>\n",
       "  <tbody>\n",
       "    <tr>\n",
       "      <th>0</th>\n",
       "      <td>13391</td>\n",
       "      <td>28101</td>\n",
       "      <td>72</td>\n",
       "      <td>г Тюмень, ул Профсоюзная</td>\n",
       "      <td>3</td>\n",
       "      <td>12</td>\n",
       "      <td>44</td>\n",
       "      <td>2022-06-30</td>\n",
       "      <td>Другое</td>\n",
       "      <td>По желанию заказчика</td>\n",
       "      <td>...</td>\n",
       "      <td>NaN</td>\n",
       "      <td>NaN</td>\n",
       "      <td>NaN</td>\n",
       "      <td>NaN</td>\n",
       "      <td>NaN</td>\n",
       "      <td>NaN</td>\n",
       "      <td>NaN</td>\n",
       "      <td>NaN</td>\n",
       "      <td>NaN</td>\n",
       "      <td>NaN</td>\n",
       "    </tr>\n",
       "    <tr>\n",
       "      <th>1</th>\n",
       "      <td>13397</td>\n",
       "      <td>28141</td>\n",
       "      <td>72</td>\n",
       "      <td>г Тюмень, ул Профсоюзная, д. 56</td>\n",
       "      <td>6</td>\n",
       "      <td>12</td>\n",
       "      <td>65</td>\n",
       "      <td>2024-12-31</td>\n",
       "      <td>Другое</td>\n",
       "      <td>Без отделки</td>\n",
       "      <td>...</td>\n",
       "      <td>NaN</td>\n",
       "      <td>NaN</td>\n",
       "      <td>NaN</td>\n",
       "      <td>NaN</td>\n",
       "      <td>NaN</td>\n",
       "      <td>NaN</td>\n",
       "      <td>NaN</td>\n",
       "      <td>NaN</td>\n",
       "      <td>NaN</td>\n",
       "      <td>NaN</td>\n",
       "    </tr>\n",
       "    <tr>\n",
       "      <th>2</th>\n",
       "      <td>13398</td>\n",
       "      <td>28141</td>\n",
       "      <td>72</td>\n",
       "      <td>г Тюмень, ул Профсоюзная, д. 56</td>\n",
       "      <td>7</td>\n",
       "      <td>10</td>\n",
       "      <td>43</td>\n",
       "      <td>2024-12-31</td>\n",
       "      <td>Другое</td>\n",
       "      <td>Без отделки</td>\n",
       "      <td>...</td>\n",
       "      <td>NaN</td>\n",
       "      <td>NaN</td>\n",
       "      <td>NaN</td>\n",
       "      <td>NaN</td>\n",
       "      <td>NaN</td>\n",
       "      <td>NaN</td>\n",
       "      <td>NaN</td>\n",
       "      <td>NaN</td>\n",
       "      <td>NaN</td>\n",
       "      <td>NaN</td>\n",
       "    </tr>\n",
       "    <tr>\n",
       "      <th>3</th>\n",
       "      <td>13399</td>\n",
       "      <td>28141</td>\n",
       "      <td>72</td>\n",
       "      <td>г Тюмень, ул Профсоюзная, д. 56</td>\n",
       "      <td>1</td>\n",
       "      <td>1</td>\n",
       "      <td>0</td>\n",
       "      <td>2024-12-31</td>\n",
       "      <td>Другое</td>\n",
       "      <td>Без отделки</td>\n",
       "      <td>...</td>\n",
       "      <td>NaN</td>\n",
       "      <td>NaN</td>\n",
       "      <td>NaN</td>\n",
       "      <td>NaN</td>\n",
       "      <td>NaN</td>\n",
       "      <td>NaN</td>\n",
       "      <td>NaN</td>\n",
       "      <td>NaN</td>\n",
       "      <td>NaN</td>\n",
       "      <td>NaN</td>\n",
       "    </tr>\n",
       "    <tr>\n",
       "      <th>4</th>\n",
       "      <td>23682</td>\n",
       "      <td>64486</td>\n",
       "      <td>47</td>\n",
       "      <td>д Агалатово</td>\n",
       "      <td>10</td>\n",
       "      <td>10</td>\n",
       "      <td>54</td>\n",
       "      <td>2022-06-30</td>\n",
       "      <td>Блоки</td>\n",
       "      <td>Без отделки</td>\n",
       "      <td>...</td>\n",
       "      <td>NaN</td>\n",
       "      <td>NaN</td>\n",
       "      <td>NaN</td>\n",
       "      <td>NaN</td>\n",
       "      <td>NaN</td>\n",
       "      <td>NaN</td>\n",
       "      <td>NaN</td>\n",
       "      <td>NaN</td>\n",
       "      <td>NaN</td>\n",
       "      <td>NaN</td>\n",
       "    </tr>\n",
       "  </tbody>\n",
       "</table>\n",
       "<p>5 rows × 108 columns</p>\n",
       "</div>"
      ],
      "text/plain": [
       "      id   pdId  region                          address  floorMin  floorMax  \\\n",
       "0  13391  28101      72         г Тюмень, ул Профсоюзная         3        12   \n",
       "1  13397  28141      72  г Тюмень, ул Профсоюзная, д. 56         6        12   \n",
       "2  13398  28141      72  г Тюмень, ул Профсоюзная, д. 56         7        10   \n",
       "3  13399  28141      72  г Тюмень, ул Профсоюзная, д. 56         1         1   \n",
       "4  23682  64486      47                      д Агалатово        10        10   \n",
       "\n",
       "   objElemLivingCnt objReady100PercDt wallMaterialShortDesc  \\\n",
       "0                44        2022-06-30                Другое   \n",
       "1                65        2024-12-31                Другое   \n",
       "2                43        2024-12-31                Другое   \n",
       "3                 0        2024-12-31                Другое   \n",
       "4                54        2022-06-30                 Блоки   \n",
       "\n",
       "    objLkFinishTypeDesc  ... metro.time  metro.isWalk  metro.colors  \\\n",
       "0  По желанию заказчика  ...        NaN           NaN           NaN   \n",
       "1           Без отделки  ...        NaN           NaN           NaN   \n",
       "2           Без отделки  ...        NaN           NaN           NaN   \n",
       "3           Без отделки  ...        NaN           NaN           NaN   \n",
       "4           Без отделки  ...        NaN           NaN           NaN   \n",
       "\n",
       "  greenAreaIndexValue airQualityIndexValue complexShortNm  \\\n",
       "0                 NaN                  NaN            NaN   \n",
       "1                 NaN                  NaN            NaN   \n",
       "2                 NaN                  NaN            NaN   \n",
       "3                 NaN                  NaN            NaN   \n",
       "4                 NaN                  NaN            NaN   \n",
       "\n",
       "  developer.bankruptStage.bankruptStageCd  \\\n",
       "0                                     NaN   \n",
       "1                                     NaN   \n",
       "2                                     NaN   \n",
       "3                                     NaN   \n",
       "4                                     NaN   \n",
       "\n",
       "  developer.bankruptStage.bankruptStageDesc  \\\n",
       "0                                       NaN   \n",
       "1                                       NaN   \n",
       "2                                       NaN   \n",
       "3                                       NaN   \n",
       "4                                       NaN   \n",
       "\n",
       "   developer.bankruptStage.bankruptLawUrl  developer.orgBankruptMsgDttm  \n",
       "0                                     NaN                           NaN  \n",
       "1                                     NaN                           NaN  \n",
       "2                                     NaN                           NaN  \n",
       "3                                     NaN                           NaN  \n",
       "4                                     NaN                           NaN  \n",
       "\n",
       "[5 rows x 108 columns]"
      ]
     },
     "execution_count": 15,
     "metadata": {},
     "output_type": "execute_result"
    }
   ],
   "source": [
    "df = pd.json_normalize(single_objects_data_list)\n",
    "df.head()"
   ]
  },
  {
   "cell_type": "markdown",
   "id": "1f14dc08",
   "metadata": {},
   "source": [
    "### Сохранение pandas.DataFrame в excel"
   ]
  },
  {
   "cell_type": "code",
   "execution_count": 16,
   "id": "d3040e52",
   "metadata": {},
   "outputs": [],
   "source": [
    "df.to_excel('df_excel.xlsx', index=False)"
   ]
  },
  {
   "cell_type": "markdown",
   "id": "b9c0492a",
   "metadata": {},
   "source": [
    "### Сохранение pandas.DataFrame в pickle"
   ]
  },
  {
   "cell_type": "code",
   "execution_count": 17,
   "id": "422221d1",
   "metadata": {},
   "outputs": [],
   "source": [
    "df.to_pickle('df_pickle.pkl')"
   ]
  },
  {
   "cell_type": "markdown",
   "id": "3e78dc86",
   "metadata": {},
   "source": [
    "### Сохранение pandas.DataFrame в базу данных"
   ]
  },
  {
   "cell_type": "code",
   "execution_count": 26,
   "id": "075da5d9",
   "metadata": {},
   "outputs": [],
   "source": [
    "conn = sqlite3.connect('df_to_database')\n",
    "df.to_sql('objects', conn, if_exists='replace', index=False)\n",
    "conn.commit()\n",
    "conn.close()"
   ]
  },
  {
   "cell_type": "code",
   "execution_count": null,
   "id": "6470c8a5",
   "metadata": {},
   "outputs": [],
   "source": [
    "single_object_data"
   ]
  },
  {
   "cell_type": "markdown",
   "id": "528bb184",
   "metadata": {},
   "source": [
    "### Скрипт для сохранения фото объектов"
   ]
  },
  {
   "cell_type": "code",
   "execution_count": 32,
   "id": "9756fd70",
   "metadata": {},
   "outputs": [
    {
     "data": {
      "text/plain": [
       "[{'objId': 13391,\n",
       "  'pdId': 28101,\n",
       "  'rpdId': 592252,\n",
       "  'devId': 306,\n",
       "  'ordNum': 1,\n",
       "  'objRenderPhotoSize': 310482,\n",
       "  'objRenderPhotoUrl': 'https://xn--80az8a.xn--d1aqf.xn--p1ai/api/ext/file/1eca0ffa-fb5f-4b30-a239-632c4c79ecd2',\n",
       "  'objRenderPhotoDttm': '19-08-2020 15:59',\n",
       "  'objRenderPhotoHiddenFlg': 0,\n",
       "  'objRenderPhotoNm': 'IMG_6313_2.JPG',\n",
       "  'objReadyDesc': 'Строится',\n",
       "  'objBuildTypeShortDesc': 'Жилое',\n",
       "  'knFlg': 1,\n",
       "  'loadDttm': '15-05-2022 00:56'},\n",
       " {'objId': 13391,\n",
       "  'pdId': 28101,\n",
       "  'rpdId': 592252,\n",
       "  'devId': 306,\n",
       "  'ordNum': 2,\n",
       "  'objRenderPhotoSize': 1014913,\n",
       "  'objRenderPhotoUrl': 'https://xn--80az8a.xn--d1aqf.xn--p1ai/api/ext/file/a7d88189-046a-49bb-834a-d1745b751eec',\n",
       "  'objRenderPhotoDttm': '12-05-2021 16:55',\n",
       "  'objRenderPhotoHiddenFlg': 0,\n",
       "  'objRenderPhotoNm': 'IMG_20210512_094028.jpg',\n",
       "  'objReadyDesc': 'Строится',\n",
       "  'objBuildTypeShortDesc': 'Жилое',\n",
       "  'knFlg': 1,\n",
       "  'loadDttm': '15-05-2022 00:56'},\n",
       " {'objId': 13391,\n",
       "  'pdId': 28101,\n",
       "  'rpdId': 592252,\n",
       "  'devId': 306,\n",
       "  'ordNum': 3,\n",
       "  'objRenderPhotoSize': 1034514,\n",
       "  'objRenderPhotoUrl': 'https://xn--80az8a.xn--d1aqf.xn--p1ai/api/ext/file/b62e21ec-606d-40a9-8859-39a6e163a3f0',\n",
       "  'objRenderPhotoDttm': '12-05-2021 16:55',\n",
       "  'objRenderPhotoHiddenFlg': 0,\n",
       "  'objRenderPhotoNm': 'IMG_20210512_0941051.jpg',\n",
       "  'objReadyDesc': 'Строится',\n",
       "  'objBuildTypeShortDesc': 'Жилое',\n",
       "  'knFlg': 1,\n",
       "  'loadDttm': '15-05-2022 00:56'},\n",
       " {'objId': 13391,\n",
       "  'pdId': 28101,\n",
       "  'rpdId': 592252,\n",
       "  'devId': 306,\n",
       "  'ordNum': 4,\n",
       "  'objRenderPhotoSize': 1085274,\n",
       "  'objRenderPhotoUrl': 'https://xn--80az8a.xn--d1aqf.xn--p1ai/api/ext/file/81ceec28-f574-4b2c-a5d0-59bcfef0e332',\n",
       "  'objRenderPhotoDttm': '12-05-2021 16:55',\n",
       "  'objRenderPhotoHiddenFlg': 0,\n",
       "  'objRenderPhotoNm': 'IMG_20210512_0941072.jpg',\n",
       "  'objReadyDesc': 'Строится',\n",
       "  'objBuildTypeShortDesc': 'Жилое',\n",
       "  'knFlg': 1,\n",
       "  'loadDttm': '15-05-2022 00:56'},\n",
       " {'objId': 13391,\n",
       "  'pdId': 28101,\n",
       "  'rpdId': 592252,\n",
       "  'devId': 306,\n",
       "  'ordNum': 5,\n",
       "  'objRenderPhotoSize': 1002935,\n",
       "  'objRenderPhotoUrl': 'https://xn--80az8a.xn--d1aqf.xn--p1ai/api/ext/file/95643167-b78b-4483-bd01-aa52b7515917',\n",
       "  'objRenderPhotoDttm': '12-05-2021 16:55',\n",
       "  'objRenderPhotoHiddenFlg': 0,\n",
       "  'objRenderPhotoNm': 'IMG_20210512_0941263.jpg',\n",
       "  'objReadyDesc': 'Строится',\n",
       "  'objBuildTypeShortDesc': 'Жилое',\n",
       "  'knFlg': 1,\n",
       "  'loadDttm': '15-05-2022 00:56'},\n",
       " {'objId': 13391,\n",
       "  'pdId': 28101,\n",
       "  'rpdId': 592252,\n",
       "  'devId': 306,\n",
       "  'ordNum': 6,\n",
       "  'objRenderPhotoSize': 1095487,\n",
       "  'objRenderPhotoUrl': 'https://xn--80az8a.xn--d1aqf.xn--p1ai/api/ext/file/c6e3d62e-6586-4e95-b5d8-c451e705c529',\n",
       "  'objRenderPhotoDttm': '12-05-2021 16:55',\n",
       "  'objRenderPhotoHiddenFlg': 0,\n",
       "  'objRenderPhotoNm': 'IMG_20210512_0941284.jpg',\n",
       "  'objReadyDesc': 'Строится',\n",
       "  'objBuildTypeShortDesc': 'Жилое',\n",
       "  'knFlg': 1,\n",
       "  'loadDttm': '15-05-2022 00:56'},\n",
       " {'objId': 13391,\n",
       "  'pdId': 28101,\n",
       "  'rpdId': 592252,\n",
       "  'devId': 306,\n",
       "  'ordNum': 7,\n",
       "  'objRenderPhotoSize': 1337567,\n",
       "  'objRenderPhotoUrl': 'https://xn--80az8a.xn--d1aqf.xn--p1ai/api/ext/file/af008ae4-ea45-430a-a87f-d7bb257d8abf',\n",
       "  'objRenderPhotoDttm': '12-05-2021 16:55',\n",
       "  'objRenderPhotoHiddenFlg': 0,\n",
       "  'objRenderPhotoNm': 'IMG_20210512_0943295.jpg',\n",
       "  'objReadyDesc': 'Строится',\n",
       "  'objBuildTypeShortDesc': 'Жилое',\n",
       "  'knFlg': 1,\n",
       "  'loadDttm': '15-05-2022 00:56'},\n",
       " {'objId': 13391,\n",
       "  'pdId': 28101,\n",
       "  'rpdId': 592252,\n",
       "  'devId': 306,\n",
       "  'ordNum': 8,\n",
       "  'objRenderPhotoSize': 1597778,\n",
       "  'objRenderPhotoUrl': 'https://xn--80az8a.xn--d1aqf.xn--p1ai/api/ext/file/c4ae6be4-0f10-4d39-a8eb-5177a8d0100a',\n",
       "  'objRenderPhotoDttm': '12-05-2021 16:55',\n",
       "  'objRenderPhotoHiddenFlg': 0,\n",
       "  'objRenderPhotoNm': 'IMG_20210512_0943396.jpg',\n",
       "  'objReadyDesc': 'Строится',\n",
       "  'objBuildTypeShortDesc': 'Жилое',\n",
       "  'knFlg': 1,\n",
       "  'loadDttm': '15-05-2022 00:56'},\n",
       " {'objId': 13391,\n",
       "  'pdId': 28101,\n",
       "  'rpdId': 592252,\n",
       "  'devId': 306,\n",
       "  'ordNum': 9,\n",
       "  'objRenderPhotoSize': 1451331,\n",
       "  'objRenderPhotoUrl': 'https://xn--80az8a.xn--d1aqf.xn--p1ai/api/ext/file/21bf93c1-e73f-4279-b24d-ec691f60df7f',\n",
       "  'objRenderPhotoDttm': '12-05-2021 16:55',\n",
       "  'objRenderPhotoHiddenFlg': 0,\n",
       "  'objRenderPhotoNm': 'IMG_20210512_0943597.jpg',\n",
       "  'objReadyDesc': 'Строится',\n",
       "  'objBuildTypeShortDesc': 'Жилое',\n",
       "  'knFlg': 1,\n",
       "  'loadDttm': '15-05-2022 00:56'},\n",
       " {'objId': 13391,\n",
       "  'pdId': 28101,\n",
       "  'rpdId': 592252,\n",
       "  'devId': 306,\n",
       "  'ordNum': 10,\n",
       "  'objRenderPhotoSize': 1454350,\n",
       "  'objRenderPhotoUrl': 'https://xn--80az8a.xn--d1aqf.xn--p1ai/api/ext/file/90f5ba53-f778-4054-bebc-50b250f3bc05',\n",
       "  'objRenderPhotoDttm': '12-05-2021 16:55',\n",
       "  'objRenderPhotoHiddenFlg': 0,\n",
       "  'objRenderPhotoNm': 'IMG_20210512_0944008.jpg',\n",
       "  'objReadyDesc': 'Строится',\n",
       "  'objBuildTypeShortDesc': 'Жилое',\n",
       "  'knFlg': 1,\n",
       "  'loadDttm': '15-05-2022 00:56'},\n",
       " {'objId': 13391,\n",
       "  'pdId': 28101,\n",
       "  'rpdId': 592252,\n",
       "  'devId': 306,\n",
       "  'ordNum': 11,\n",
       "  'objRenderPhotoSize': 1067769,\n",
       "  'objRenderPhotoUrl': 'https://xn--80az8a.xn--d1aqf.xn--p1ai/api/ext/file/3553f4ec-8d7e-4303-ba25-3ec6f03bfe39',\n",
       "  'objRenderPhotoDttm': '12-05-2021 16:55',\n",
       "  'objRenderPhotoHiddenFlg': 0,\n",
       "  'objRenderPhotoNm': 'IMG_20210512_0944249.jpg',\n",
       "  'objReadyDesc': 'Строится',\n",
       "  'objBuildTypeShortDesc': 'Жилое',\n",
       "  'knFlg': 1,\n",
       "  'loadDttm': '15-05-2022 00:56'}]"
      ]
     },
     "execution_count": 32,
     "metadata": {},
     "output_type": "execute_result"
    }
   ],
   "source": [
    "single_objects_data_list[0]['photoRenderDTO']  # список описания фотографий объекта"
   ]
  },
  {
   "cell_type": "markdown",
   "id": "062ecb62",
   "metadata": {},
   "source": [
    "### Получение и сохранение фото объектов"
   ]
  },
  {
   "cell_type": "code",
   "execution_count": 61,
   "id": "fc41d819",
   "metadata": {},
   "outputs": [],
   "source": [
    "def get_object_images(objects_data: list) -> None:\n",
    "    for obj in tqdm(objects_data): \n",
    "        object_img_list = obj['photoRenderDTO']\n",
    "        object_id = str(object_img_list[0]['objId'])\n",
    "        object_address = obj['address']\n",
    "        os.mkdir(object_id)\n",
    "        for img in object_img_list:\n",
    "            img_url = img['objRenderPhotoUrl']\n",
    "            img_name = img['objRenderPhotoNm']\n",
    "            try:\n",
    "                img_resp = requests.get(img_url)\n",
    "                with open('/'.join((object_id, img_name)), 'wb') as f:\n",
    "                    f.write(img_resp.content)\n",
    "                with open('/'.join((object_id, 'address.txt')), 'w') as f:\n",
    "                    f.write(object_address)            \n",
    "                del img_resp\n",
    "            except Exception:\n",
    "                continue"
   ]
  },
  {
   "cell_type": "code",
   "execution_count": 62,
   "id": "a372aa82",
   "metadata": {},
   "outputs": [
    {
     "name": "stderr",
     "output_type": "stream",
     "text": [
      "100%|████████████████████████████████████████████████████████████████████████████████████████████████████████████████████████████████████████████████| 10/10 [00:12<00:00,  1.29s/it]\n"
     ]
    }
   ],
   "source": [
    "get_object_images(single_objects_data_list[:10])"
   ]
  }
 ],
 "metadata": {
  "kernelspec": {
   "display_name": "Python 3 (ipykernel)",
   "language": "python",
   "name": "python3"
  },
  "language_info": {
   "codemirror_mode": {
    "name": "ipython",
    "version": 3
   },
   "file_extension": ".py",
   "mimetype": "text/x-python",
   "name": "python",
   "nbconvert_exporter": "python",
   "pygments_lexer": "ipython3",
   "version": "3.9.6"
  }
 },
 "nbformat": 4,
 "nbformat_minor": 5
}
