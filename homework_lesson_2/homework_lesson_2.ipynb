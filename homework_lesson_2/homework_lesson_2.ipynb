{
 "cells": [
  {
   "cell_type": "markdown",
   "id": "ffd10cbe",
   "metadata": {},
   "source": [
    "### Импорт необходимых библиотек"
   ]
  },
  {
   "cell_type": "code",
   "execution_count": 1,
   "id": "1739a945",
   "metadata": {},
   "outputs": [],
   "source": [
    "import sqlite3\n",
    "\n",
    "import pandas as pd\n",
    "import requests"
   ]
  },
  {
   "cell_type": "code",
   "execution_count": 2,
   "id": "1cedcd56",
   "metadata": {},
   "outputs": [],
   "source": [
    "limit_ = 6000  # 6500 уже даёт статус 504\n",
    "offset_ = 1\n",
    "url = f'https://наш.дом.рф/сервисы/api/kn/object?offset={offset_}&limit={limit_}&sortField=devId.devShortCleanNm&sortType=asc&objStatus=0'"
   ]
  },
  {
   "cell_type": "markdown",
   "id": "ae5ae4e5",
   "metadata": {},
   "source": [
    "### GET запрос для получения данных"
   ]
  },
  {
   "cell_type": "code",
   "execution_count": 3,
   "id": "98cb64b5",
   "metadata": {},
   "outputs": [],
   "source": [
    "res = requests.get(url)\n",
    "objects_data = res.json()"
   ]
  },
  {
   "cell_type": "code",
   "execution_count": 4,
   "id": "7df61c0b",
   "metadata": {},
   "outputs": [
    {
     "data": {
      "text/plain": [
       "6000"
      ]
     },
     "execution_count": 4,
     "metadata": {},
     "output_type": "execute_result"
    }
   ],
   "source": [
    "len(objects_data['data']['list'])"
   ]
  },
  {
   "cell_type": "markdown",
   "id": "57cdca18",
   "metadata": {},
   "source": [
    "### Создание pandas.DataFrame"
   ]
  },
  {
   "cell_type": "code",
   "execution_count": 5,
   "id": "460c0d26",
   "metadata": {},
   "outputs": [],
   "source": [
    "df = pd.json_normalize(objects_data['data']['list'])"
   ]
  },
  {
   "cell_type": "code",
   "execution_count": 6,
   "id": "34c1c88c",
   "metadata": {},
   "outputs": [
    {
     "data": {
      "text/html": [
       "<div>\n",
       "<style scoped>\n",
       "    .dataframe tbody tr th:only-of-type {\n",
       "        vertical-align: middle;\n",
       "    }\n",
       "\n",
       "    .dataframe tbody tr th {\n",
       "        vertical-align: top;\n",
       "    }\n",
       "\n",
       "    .dataframe thead th {\n",
       "        text-align: right;\n",
       "    }\n",
       "</style>\n",
       "<table border=\"1\" class=\"dataframe\">\n",
       "  <thead>\n",
       "    <tr style=\"text-align: right;\">\n",
       "      <th></th>\n",
       "      <th>objId</th>\n",
       "      <th>rpdRegionCd</th>\n",
       "      <th>objAddr</th>\n",
       "      <th>objFloorMin</th>\n",
       "      <th>objFloorMax</th>\n",
       "      <th>objElemLivingCnt</th>\n",
       "      <th>objReady100PercDt</th>\n",
       "      <th>objSquareLiving</th>\n",
       "      <th>objCompensFundFlg</th>\n",
       "      <th>objProblemFlg</th>\n",
       "      <th>...</th>\n",
       "      <th>developer.orgForm.fullForm</th>\n",
       "      <th>developer.orgForm.shortForm</th>\n",
       "      <th>developer.companyGroup</th>\n",
       "      <th>developer.devInn</th>\n",
       "      <th>objCommercNm</th>\n",
       "      <th>complexShortName</th>\n",
       "      <th>developer.bankruptStage.bankruptStageCd</th>\n",
       "      <th>developer.bankruptStage.bankruptStageDesc</th>\n",
       "      <th>developer.bankruptStage.bankruptLawUrl</th>\n",
       "      <th>developer.orgBankruptMsgDttm</th>\n",
       "    </tr>\n",
       "  </thead>\n",
       "  <tbody>\n",
       "    <tr>\n",
       "      <th>0</th>\n",
       "      <td>13383</td>\n",
       "      <td>72</td>\n",
       "      <td>г Тюмень</td>\n",
       "      <td>4</td>\n",
       "      <td>20</td>\n",
       "      <td>68</td>\n",
       "      <td>2022-06-30</td>\n",
       "      <td>6289.98</td>\n",
       "      <td>1</td>\n",
       "      <td>0</td>\n",
       "      <td>...</td>\n",
       "      <td>Акционерное общество</td>\n",
       "      <td>АО</td>\n",
       "      <td>6.994210e+08</td>\n",
       "      <td>7701651356</td>\n",
       "      <td>NaN</td>\n",
       "      <td>NaN</td>\n",
       "      <td>NaN</td>\n",
       "      <td>NaN</td>\n",
       "      <td>NaN</td>\n",
       "      <td>NaN</td>\n",
       "    </tr>\n",
       "    <tr>\n",
       "      <th>1</th>\n",
       "      <td>13399</td>\n",
       "      <td>72</td>\n",
       "      <td>г Тюмень, ул Профсоюзная, д. 56</td>\n",
       "      <td>1</td>\n",
       "      <td>1</td>\n",
       "      <td>0</td>\n",
       "      <td>2024-12-31</td>\n",
       "      <td>0.00</td>\n",
       "      <td>0</td>\n",
       "      <td>0</td>\n",
       "      <td>...</td>\n",
       "      <td>Акционерное общество</td>\n",
       "      <td>АО</td>\n",
       "      <td>6.994210e+08</td>\n",
       "      <td>7701651356</td>\n",
       "      <td>NaN</td>\n",
       "      <td>NaN</td>\n",
       "      <td>NaN</td>\n",
       "      <td>NaN</td>\n",
       "      <td>NaN</td>\n",
       "      <td>NaN</td>\n",
       "    </tr>\n",
       "    <tr>\n",
       "      <th>2</th>\n",
       "      <td>13391</td>\n",
       "      <td>72</td>\n",
       "      <td>г Тюмень, ул Профсоюзная</td>\n",
       "      <td>3</td>\n",
       "      <td>12</td>\n",
       "      <td>44</td>\n",
       "      <td>2022-06-30</td>\n",
       "      <td>4293.67</td>\n",
       "      <td>1</td>\n",
       "      <td>0</td>\n",
       "      <td>...</td>\n",
       "      <td>Акционерное общество</td>\n",
       "      <td>АО</td>\n",
       "      <td>6.994210e+08</td>\n",
       "      <td>7701651356</td>\n",
       "      <td>NaN</td>\n",
       "      <td>NaN</td>\n",
       "      <td>NaN</td>\n",
       "      <td>NaN</td>\n",
       "      <td>NaN</td>\n",
       "      <td>NaN</td>\n",
       "    </tr>\n",
       "    <tr>\n",
       "      <th>3</th>\n",
       "      <td>13397</td>\n",
       "      <td>72</td>\n",
       "      <td>г Тюмень, ул Профсоюзная, д. 56</td>\n",
       "      <td>6</td>\n",
       "      <td>12</td>\n",
       "      <td>65</td>\n",
       "      <td>2024-12-31</td>\n",
       "      <td>6248.51</td>\n",
       "      <td>0</td>\n",
       "      <td>0</td>\n",
       "      <td>...</td>\n",
       "      <td>Акционерное общество</td>\n",
       "      <td>АО</td>\n",
       "      <td>6.994210e+08</td>\n",
       "      <td>7701651356</td>\n",
       "      <td>NaN</td>\n",
       "      <td>NaN</td>\n",
       "      <td>NaN</td>\n",
       "      <td>NaN</td>\n",
       "      <td>NaN</td>\n",
       "      <td>NaN</td>\n",
       "    </tr>\n",
       "    <tr>\n",
       "      <th>4</th>\n",
       "      <td>23682</td>\n",
       "      <td>47</td>\n",
       "      <td>д Агалатово</td>\n",
       "      <td>10</td>\n",
       "      <td>10</td>\n",
       "      <td>54</td>\n",
       "      <td>2022-06-30</td>\n",
       "      <td>2748.15</td>\n",
       "      <td>1</td>\n",
       "      <td>0</td>\n",
       "      <td>...</td>\n",
       "      <td>Общество с ограниченной ответственностью</td>\n",
       "      <td>ООО</td>\n",
       "      <td>5.562608e+09</td>\n",
       "      <td>7806536079</td>\n",
       "      <td>Жилой комплекс \"84 высота\"</td>\n",
       "      <td>NaN</td>\n",
       "      <td>NaN</td>\n",
       "      <td>NaN</td>\n",
       "      <td>NaN</td>\n",
       "      <td>NaN</td>\n",
       "    </tr>\n",
       "  </tbody>\n",
       "</table>\n",
       "<p>5 rows × 35 columns</p>\n",
       "</div>"
      ],
      "text/plain": [
       "   objId  rpdRegionCd                          objAddr  objFloorMin  \\\n",
       "0  13383           72                         г Тюмень            4   \n",
       "1  13399           72  г Тюмень, ул Профсоюзная, д. 56            1   \n",
       "2  13391           72         г Тюмень, ул Профсоюзная            3   \n",
       "3  13397           72  г Тюмень, ул Профсоюзная, д. 56            6   \n",
       "4  23682           47                      д Агалатово           10   \n",
       "\n",
       "   objFloorMax  objElemLivingCnt objReady100PercDt  objSquareLiving  \\\n",
       "0           20                68        2022-06-30          6289.98   \n",
       "1            1                 0        2024-12-31             0.00   \n",
       "2           12                44        2022-06-30          4293.67   \n",
       "3           12                65        2024-12-31          6248.51   \n",
       "4           10                54        2022-06-30          2748.15   \n",
       "\n",
       "   objCompensFundFlg  objProblemFlg  ...  \\\n",
       "0                  1              0  ...   \n",
       "1                  0              0  ...   \n",
       "2                  1              0  ...   \n",
       "3                  0              0  ...   \n",
       "4                  1              0  ...   \n",
       "\n",
       "                 developer.orgForm.fullForm  developer.orgForm.shortForm  \\\n",
       "0                      Акционерное общество                           АО   \n",
       "1                      Акционерное общество                           АО   \n",
       "2                      Акционерное общество                           АО   \n",
       "3                      Акционерное общество                           АО   \n",
       "4  Общество с ограниченной ответственностью                          ООО   \n",
       "\n",
       "  developer.companyGroup developer.devInn                objCommercNm  \\\n",
       "0           6.994210e+08       7701651356                         NaN   \n",
       "1           6.994210e+08       7701651356                         NaN   \n",
       "2           6.994210e+08       7701651356                         NaN   \n",
       "3           6.994210e+08       7701651356                         NaN   \n",
       "4           5.562608e+09       7806536079  Жилой комплекс \"84 высота\"   \n",
       "\n",
       "   complexShortName developer.bankruptStage.bankruptStageCd  \\\n",
       "0               NaN                                     NaN   \n",
       "1               NaN                                     NaN   \n",
       "2               NaN                                     NaN   \n",
       "3               NaN                                     NaN   \n",
       "4               NaN                                     NaN   \n",
       "\n",
       "   developer.bankruptStage.bankruptStageDesc  \\\n",
       "0                                        NaN   \n",
       "1                                        NaN   \n",
       "2                                        NaN   \n",
       "3                                        NaN   \n",
       "4                                        NaN   \n",
       "\n",
       "  developer.bankruptStage.bankruptLawUrl  developer.orgBankruptMsgDttm  \n",
       "0                                    NaN                           NaN  \n",
       "1                                    NaN                           NaN  \n",
       "2                                    NaN                           NaN  \n",
       "3                                    NaN                           NaN  \n",
       "4                                    NaN                           NaN  \n",
       "\n",
       "[5 rows x 35 columns]"
      ]
     },
     "execution_count": 6,
     "metadata": {},
     "output_type": "execute_result"
    }
   ],
   "source": [
    "df.head()"
   ]
  },
  {
   "cell_type": "markdown",
   "id": "1f14dc08",
   "metadata": {},
   "source": [
    "### Сохранение pandas.DataFrame в excel"
   ]
  },
  {
   "cell_type": "code",
   "execution_count": 7,
   "id": "88925714",
   "metadata": {},
   "outputs": [],
   "source": [
    "df.to_excel('df_excel.xlsx', index=False)"
   ]
  },
  {
   "cell_type": "markdown",
   "id": "b9c0492a",
   "metadata": {},
   "source": [
    "### Сохранение pandas.DataFrame в pickle"
   ]
  },
  {
   "cell_type": "code",
   "execution_count": 8,
   "id": "422221d1",
   "metadata": {},
   "outputs": [],
   "source": [
    "df.to_pickle('df_pickle.pkl')"
   ]
  },
  {
   "cell_type": "markdown",
   "id": "3e78dc86",
   "metadata": {},
   "source": [
    "### Сохранение pandas.DataFrame в базу данных"
   ]
  },
  {
   "cell_type": "code",
   "execution_count": 10,
   "id": "075da5d9",
   "metadata": {},
   "outputs": [],
   "source": [
    "conn = sqlite3.connect('df_to_database')\n",
    "df.to_sql('objects', conn, if_exists='replace', index=False)\n",
    "conn.commit()\n",
    "conn.close()"
   ]
  }
 ],
 "metadata": {
  "kernelspec": {
   "display_name": "Python 3 (ipykernel)",
   "language": "python",
   "name": "python3"
  },
  "language_info": {
   "codemirror_mode": {
    "name": "ipython",
    "version": 3
   },
   "file_extension": ".py",
   "mimetype": "text/x-python",
   "name": "python",
   "nbconvert_exporter": "python",
   "pygments_lexer": "ipython3",
   "version": "3.9.6"
  }
 },
 "nbformat": 4,
 "nbformat_minor": 5
}
