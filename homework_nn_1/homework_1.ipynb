{
 "cells": [
  {
   "cell_type": "code",
   "execution_count": 2,
   "id": "a52025ef",
   "metadata": {},
   "outputs": [],
   "source": [
    "import torch\n",
    "import torch.nn as nn\n",
    "import numpy as np\n",
    "import warnings\n",
    "\n",
    "warnings.filterwarnings('ignore')"
   ]
  },
  {
   "cell_type": "markdown",
   "id": "4099d0b4",
   "metadata": {},
   "source": [
    "Написать на PyTorch forward и backward полносвязного слоя без использования autograd"
   ]
  },
  {
   "cell_type": "code",
   "execution_count": 3,
   "id": "b351ac00",
   "metadata": {},
   "outputs": [],
   "source": [
    "def sigmoid(x):\n",
    "    return 1 / (1 + torch.exp(-x))\n",
    "\n",
    "\n",
    "def partial_derivative_sigmoid(x):\n",
    "    return x * (1 - x)\n",
    "\n",
    "\n",
    "class CustomNN(nn.Module):\n",
    "    def __init__(self, input_dim: int, output_dim: int):\n",
    "        super().__init__()\n",
    "        self.linear = nn.Linear(in_features=input_dim, out_features=output_dim)\n",
    "        self.activation = sigmoid\n",
    "        self.saved_tensors = None\n",
    "    \n",
    "    def forward_propagation(self, input_x):\n",
    "        self.saved_tensors = input_x\n",
    "        return self.activation(self.linear(input_x))\n",
    "    \n",
    "    def backward_propagation(self, grad_output):\n",
    "        return grad_output * partial_derivative_sigmoid(self.saved_tensors)\n"
   ]
  },
  {
   "cell_type": "markdown",
   "id": "a48b71d2",
   "metadata": {},
   "source": [
    "Написать 1-2 адаптивных оптимизатора"
   ]
  },
  {
   "cell_type": "code",
   "execution_count": 4,
   "id": "e1968be2",
   "metadata": {},
   "outputs": [],
   "source": [
    "class Adagrad:\n",
    "    def __init__(self, lr, model):\n",
    "        self.accumulated = torch.zeros_like(model)\n",
    "        self.lr = lr\n",
    "        self.adapt_lr = lr\n",
    "        self.model = model\n",
    "        \n",
    "    def step(self, grad):\n",
    "        self.accumulated += grad ** 2\n",
    "        self. adapt_lr = self.lr / torch.sqrt(self.accumulated)\n",
    "        self.model -= self.adapt_lr * grad"
   ]
  },
  {
   "cell_type": "code",
   "execution_count": null,
   "id": "34e41d34",
   "metadata": {},
   "outputs": [],
   "source": [
    "class RMSprop:\n",
    "    def __init__(self, rho, lr, model):\n",
    "        self.accumulated = torch.zeros_like(model)\n",
    "        self.rho = rho\n",
    "        self.lr = lr\n",
    "        self.adapt_lr = lr\n",
    "        self.model = model\n",
    "        \n",
    "    def step(self, grad):\n",
    "        self.accumulated += self.rho * self.accumulated + (1 - self.rho) * grad ** 2\n",
    "        self.adapt_lr = self.lr / torch.sqrt(self.accumulated)\n",
    "        self.model -= se"
   ]
  }
 ],
 "metadata": {
  "kernelspec": {
   "display_name": "Python 3 (ipykernel)",
   "language": "python",
   "name": "python3"
  },
  "language_info": {
   "codemirror_mode": {
    "name": "ipython",
    "version": 3
   },
   "file_extension": ".py",
   "mimetype": "text/x-python",
   "name": "python",
   "nbconvert_exporter": "python",
   "pygments_lexer": "ipython3",
   "version": "3.9.6"
  }
 },
 "nbformat": 4,
 "nbformat_minor": 5
}
