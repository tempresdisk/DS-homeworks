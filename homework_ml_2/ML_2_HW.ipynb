{
 "cells": [
  {
   "cell_type": "code",
   "execution_count": 1,
   "metadata": {},
   "outputs": [],
   "source": [
    "from sklearn.datasets import load_boston\n",
    "import pandas as pd\n",
    "import numpy as np\n",
    "from sklearn.model_selection import train_test_split, cross_val_score\n",
    "from sklearn.linear_model import (\n",
    "    LinearRegression,Lasso, Ridge, RidgeCV, LassoCV, LogisticRegression\n",
    ")\n",
    "from sklearn.model_selection import GridSearchCV\n",
    "from sklearn.preprocessing import StandardScaler, MinMaxScaler, PolynomialFeatures, OneHotEncoder\n",
    "from sklearn.pipeline import Pipeline\n",
    "from sklearn.impute import SimpleImputer\n",
    "from sklearn.metrics import accuracy_score, f1_score\n",
    "from sklearn.compose import ColumnTransformer\n",
    "from sklearn.svm import SVC, LinearSVC\n",
    "from sklearn.ensemble import RandomForestClassifier, GradientBoostingClassifier\n",
    "import warnings\n",
    "\n",
    "warnings.filterwarnings('ignore')"
   ]
  },
  {
   "cell_type": "code",
   "execution_count": 2,
   "metadata": {},
   "outputs": [],
   "source": [
    "RANDOM_STATE = 42"
   ]
  },
  {
   "cell_type": "code",
   "execution_count": 3,
   "metadata": {},
   "outputs": [],
   "source": [
    "dataset = load_boston()\n",
    "X = pd.DataFrame(dataset.data)\n",
    "X.columns = dataset.feature_names\n",
    "y = dataset.target"
   ]
  },
  {
   "cell_type": "markdown",
   "metadata": {},
   "source": [
    "1. Разделите выборку на обучающую и тестовую в отношении 80%/20%"
   ]
  },
  {
   "cell_type": "code",
   "execution_count": 4,
   "metadata": {},
   "outputs": [],
   "source": [
    " X_train, X_test, y_train, y_test = train_test_split(X, y, test_size=0.2, random_state=RANDOM_STATE)"
   ]
  },
  {
   "cell_type": "markdown",
   "metadata": {},
   "source": [
    "2. Обучите стандартную регрессию, а также Ridge и  Lasso и параметрами по умолчанию и выведите их R2 на тестовой выборке"
   ]
  },
  {
   "cell_type": "code",
   "execution_count": 5,
   "metadata": {},
   "outputs": [
    {
     "data": {
      "text/plain": [
       "0.6687594935356318"
      ]
     },
     "execution_count": 5,
     "metadata": {},
     "output_type": "execute_result"
    }
   ],
   "source": [
    "model_linear = LinearRegression().fit(X_train, y_train)\n",
    "model_linear.score(X_test, y_test)"
   ]
  },
  {
   "cell_type": "code",
   "execution_count": 6,
   "metadata": {},
   "outputs": [
    {
     "data": {
      "text/plain": [
       "0.6662221670168519"
      ]
     },
     "execution_count": 6,
     "metadata": {},
     "output_type": "execute_result"
    }
   ],
   "source": [
    "model_ridge = Ridge().fit(X_train, y_train)\n",
    "model_ridge.score(X_test, y_test)"
   ]
  },
  {
   "cell_type": "code",
   "execution_count": 7,
   "metadata": {},
   "outputs": [
    {
     "data": {
      "text/plain": [
       "0.6671453631686304"
      ]
     },
     "execution_count": 7,
     "metadata": {},
     "output_type": "execute_result"
    }
   ],
   "source": [
    "model_lasso = Lasso().fit(X_train, y_train)\n",
    "model_lasso.score(X_test, y_test)"
   ]
  },
  {
   "cell_type": "markdown",
   "metadata": {},
   "source": [
    "3. Для Ridge и Lasso подберите коэффициент регуляризации(используйте GridSearchCV, RidgeCV, LassoCV) в пределах от $10^{-5}$ до $10^5$ (по степеням 10). Посчитайте R2 на тестовой выборке по лучшим моделям и сравните с предыдущими результатами. Напишите как изменился результат"
   ]
  },
  {
   "cell_type": "code",
   "execution_count": 8,
   "metadata": {},
   "outputs": [],
   "source": [
    "parameters = [\n",
    "    {'alpha': [1e-5, 1e-4, 1e-3, 1e-2, 1e-1, 1, 10, 100, 1_000, 10_000, 10_000]}\n",
    "]"
   ]
  },
  {
   "cell_type": "markdown",
   "metadata": {},
   "source": [
    "### GridSearchCV"
   ]
  },
  {
   "cell_type": "code",
   "execution_count": 9,
   "metadata": {},
   "outputs": [
    {
     "data": {
      "text/plain": [
       "{'alpha': 1e-05}"
      ]
     },
     "execution_count": 9,
     "metadata": {},
     "output_type": "execute_result"
    }
   ],
   "source": [
    "estimator_ridge = GridSearchCV(Ridge(), parameters)\n",
    "estimator_ridge.fit(X_train, y_train)\n",
    "estimator_ridge.best_params_"
   ]
  },
  {
   "cell_type": "code",
   "execution_count": 10,
   "metadata": {},
   "outputs": [
    {
     "data": {
      "text/plain": [
       "0.6687594856409733"
      ]
     },
     "execution_count": 10,
     "metadata": {},
     "output_type": "execute_result"
    }
   ],
   "source": [
    "estimator_ridge.score(X_test, y_test)\n",
    "# R2 увеличился"
   ]
  },
  {
   "cell_type": "code",
   "execution_count": 11,
   "metadata": {},
   "outputs": [
    {
     "data": {
      "text/plain": [
       "{'alpha': 1e-05}"
      ]
     },
     "execution_count": 11,
     "metadata": {},
     "output_type": "execute_result"
    }
   ],
   "source": [
    "estimator_lasso = GridSearchCV(Lasso(), parameters)\n",
    "estimator_lasso.fit(X_train, y_train)\n",
    "estimator_lasso.best_params_"
   ]
  },
  {
   "cell_type": "code",
   "execution_count": 12,
   "metadata": {},
   "outputs": [
    {
     "data": {
      "text/plain": [
       "0.6687598638315155"
      ]
     },
     "execution_count": 12,
     "metadata": {},
     "output_type": "execute_result"
    }
   ],
   "source": [
    "estimator_lasso.score(X_test, y_test)\n",
    "# R2 увеличился (лучше)"
   ]
  },
  {
   "cell_type": "markdown",
   "metadata": {},
   "source": [
    "### RidgeCV"
   ]
  },
  {
   "cell_type": "code",
   "execution_count": 13,
   "metadata": {},
   "outputs": [
    {
     "data": {
      "text/plain": [
       "0.6687510090373743"
      ]
     },
     "execution_count": 13,
     "metadata": {},
     "output_type": "execute_result"
    }
   ],
   "source": [
    "model_ridgecv = RidgeCV(alphas=(1e-5, 1e-4, 1e-3, 1e-2, 1e-1, 1, 10, 100, 1_000, 10_000, 10_000))\n",
    "model_ridgecv.fit(X_train, y_train)\n",
    "model_ridgecv.score(X_test, y_test)\n",
    "# R2 увеличился (лучше)"
   ]
  },
  {
   "cell_type": "markdown",
   "metadata": {},
   "source": [
    "### LassoCV"
   ]
  },
  {
   "cell_type": "code",
   "execution_count": 14,
   "metadata": {},
   "outputs": [
    {
     "data": {
      "text/plain": [
       "0.6687598638315155"
      ]
     },
     "execution_count": 14,
     "metadata": {},
     "output_type": "execute_result"
    }
   ],
   "source": [
    "model_lassocv = LassoCV(alphas=(1e-5, 1e-4, 1e-3, 1e-2, 1e-1, 1, 10, 100, 1_000, 10_000, 10_000))\n",
    "model_lassocv.fit(X_train, y_train)\n",
    "model_lassocv.score(X_test, y_test)\n",
    "# R2 увеличился (лучше)"
   ]
  },
  {
   "cell_type": "markdown",
   "metadata": {},
   "source": [
    "4. Проведите масштабирование выборки(используйте Pipeline, StandardScaler, MinMaxScaler), посчитайте R2 и сравните с предыдущими результатами. Напишите как изменился результат"
   ]
  },
  {
   "cell_type": "code",
   "execution_count": 15,
   "metadata": {},
   "outputs": [
    {
     "data": {
      "text/plain": [
       "0.6684624359643561"
      ]
     },
     "execution_count": 15,
     "metadata": {},
     "output_type": "execute_result"
    }
   ],
   "source": [
    "pipe_ridge_standard_scaler = Pipeline(\n",
    "    [('scaler', StandardScaler()), ('model', Ridge())]\n",
    ")\n",
    "pipe_ridge_standard_scaler.fit(X_train, y_train)\n",
    "pipe_ridge_standard_scaler.score(X_test, y_test)\n",
    "# R2, по сравнению с Ridge(), увеличился (лучше)"
   ]
  },
  {
   "cell_type": "code",
   "execution_count": 16,
   "metadata": {},
   "outputs": [
    {
     "data": {
      "text/plain": [
       "0.6239428734251422"
      ]
     },
     "execution_count": 16,
     "metadata": {},
     "output_type": "execute_result"
    }
   ],
   "source": [
    "pipe_lasso_standard_scaler = Pipeline(\n",
    "    [('scaler', StandardScaler()), ('model', Lasso())]\n",
    ")\n",
    "pipe_lasso_standard_scaler.fit(X_train, y_train)\n",
    "pipe_lasso_standard_scaler.score(X_test, y_test)\n",
    "# R2, по сравнению с Lasso(), заметно уменьшился"
   ]
  },
  {
   "cell_type": "code",
   "execution_count": 17,
   "metadata": {},
   "outputs": [
    {
     "data": {
      "text/plain": [
       "0.6764100365423598"
      ]
     },
     "execution_count": 17,
     "metadata": {},
     "output_type": "execute_result"
    }
   ],
   "source": [
    "pipe_ridge_minmax_scaler = Pipeline(\n",
    "    [('scaler', MinMaxScaler()), ('model', Ridge())]\n",
    ")\n",
    "pipe_ridge_minmax_scaler.fit(X_train, y_train)\n",
    "pipe_ridge_minmax_scaler.score(X_test, y_test)\n",
    "# R2 больше чем у Ridge(), но меньше чем с StandardScaler()"
   ]
  },
  {
   "cell_type": "code",
   "execution_count": 18,
   "metadata": {},
   "outputs": [
    {
     "data": {
      "text/plain": [
       "0.2573921442545195"
      ]
     },
     "execution_count": 18,
     "metadata": {},
     "output_type": "execute_result"
    }
   ],
   "source": [
    "pipe_lasso_minmax_scaler = Pipeline(\n",
    "    [('scaler', MinMaxScaler()), ('model', Lasso())]\n",
    ")\n",
    "pipe_lasso_minmax_scaler.fit(X_train, y_train)\n",
    "pipe_lasso_minmax_scaler.score(X_test, y_test)\n",
    "# R2 значительное уменьшение по сравнению как с чистым Lasso(), так и с StandardScaler() "
   ]
  },
  {
   "cell_type": "markdown",
   "metadata": {},
   "source": [
    "5. Подберите коэффициент регуляризации для Ridge и Lasso на масштабированных данных, посчитайте R2 и сравните с предыдущими результатами. Напишите как изменился результат"
   ]
  },
  {
   "cell_type": "code",
   "execution_count": 19,
   "metadata": {},
   "outputs": [
    {
     "data": {
      "text/plain": [
       "0.6659677905050798"
      ]
     },
     "execution_count": 19,
     "metadata": {},
     "output_type": "execute_result"
    }
   ],
   "source": [
    "pipe_ridgecv_standard_scaler = Pipeline(\n",
    "    [('scaler', StandardScaler()), ('model', RidgeCV(alphas=(1e-5, 1e-4, 1e-3, 1e-2, 1e-1, 1, 10, 100, 1_000, 10_000, 10_000)))]\n",
    ")\n",
    "pipe_ridgecv_standard_scaler.fit(X_train, y_train)\n",
    "pipe_ridgecv_standard_scaler.score(X_test, y_test)\n",
    "# R2, по сравнению с чистым RidgeCV(), уменьшился"
   ]
  },
  {
   "cell_type": "code",
   "execution_count": 20,
   "metadata": {},
   "outputs": [
    {
     "data": {
      "text/plain": [
       "0.668759038334717"
      ]
     },
     "execution_count": 20,
     "metadata": {},
     "output_type": "execute_result"
    }
   ],
   "source": [
    "pipe_lassocv_standard_scaler = Pipeline(\n",
    "    [('scaler', StandardScaler()), ('model', LassoCV(alphas=(1e-5, 1e-4, 1e-3, 1e-2, 1e-1, 1, 10, 100, 1_000, 10_000, 10_000)))]\n",
    ")\n",
    "pipe_lassocv_standard_scaler.fit(X_train, y_train)\n",
    "pipe_lassocv_standard_scaler.score(X_test, y_test)\n",
    "# R2, по сравнению с чистым LassoCV(), немного уменьшился"
   ]
  },
  {
   "cell_type": "code",
   "execution_count": 21,
   "metadata": {},
   "outputs": [
    {
     "data": {
      "text/plain": [
       "0.6700309977617445"
      ]
     },
     "execution_count": 21,
     "metadata": {},
     "output_type": "execute_result"
    }
   ],
   "source": [
    "pipe_ridgecv_minmax_scaler = Pipeline(\n",
    "    [('scaler', MinMaxScaler()), ('model', RidgeCV(alphas=(1e-5, 1e-4, 1e-3, 1e-2, 1e-1, 1, 10, 100, 1_000, 10_000, 10_000)))]\n",
    ")\n",
    "pipe_ridgecv_minmax_scaler.fit(X_train, y_train)\n",
    "pipe_ridgecv_minmax_scaler.score(X_test, y_test)\n",
    "# R2, по сравнению как с чистым RidgeCV(), так и с StandardScaler() заметно увеличился"
   ]
  },
  {
   "cell_type": "code",
   "execution_count": 22,
   "metadata": {},
   "outputs": [
    {
     "data": {
      "text/plain": [
       "0.6687605073677362"
      ]
     },
     "execution_count": 22,
     "metadata": {},
     "output_type": "execute_result"
    }
   ],
   "source": [
    "pipe_lassocv_minmax_scaler = Pipeline(\n",
    "    [('scaler', MinMaxScaler()), ('model', LassoCV(alphas=(1e-5, 1e-4, 1e-3, 1e-2, 1e-1, 1, 10, 100, 1_000, 10_000, 10_000)))]\n",
    ")\n",
    "pipe_lassocv_minmax_scaler.fit(X_train, y_train)\n",
    "pipe_lassocv_minmax_scaler.score(X_test, y_test)\n",
    "# R2, по сравнению как с чистым LassoCV(), так и с StandardScaler() немного увеличился"
   ]
  },
  {
   "cell_type": "markdown",
   "metadata": {},
   "source": [
    "6. Добавьте попарные произведения признаков и их квадраты (используйте PolynomialFeatures) на масштабированных признаках, посчитайте R2 и сравните с предыдущими результатами. Напишите как изменился результат"
   ]
  },
  {
   "cell_type": "code",
   "execution_count": 23,
   "metadata": {},
   "outputs": [
    {
     "data": {
      "text/plain": [
       "0.816294899023"
      ]
     },
     "execution_count": 23,
     "metadata": {},
     "output_type": "execute_result"
    }
   ],
   "source": [
    "pipe_ridge_standard_scaler_polynomial = Pipeline(\n",
    "    [('scaler', StandardScaler()), ('polynomial', PolynomialFeatures(2)), ('model', Ridge())]\n",
    ")\n",
    "pipe_ridge_standard_scaler_polynomial.fit(X_train, y_train)\n",
    "pipe_ridge_standard_scaler_polynomial.score(X_test, y_test)\n",
    "# R2 значительное увеличение по сравнению с предыдущими Ridge"
   ]
  },
  {
   "cell_type": "code",
   "execution_count": 24,
   "metadata": {},
   "outputs": [
    {
     "data": {
      "text/plain": [
       "0.7322762586137164"
      ]
     },
     "execution_count": 24,
     "metadata": {},
     "output_type": "execute_result"
    }
   ],
   "source": [
    "pipe_lasso_standard_scaler_polynomial = Pipeline(\n",
    "    [('scaler', StandardScaler()), ('polynomial', PolynomialFeatures(2)), ('model', Lasso())]\n",
    ")\n",
    "pipe_lasso_standard_scaler_polynomial.fit(X_train, y_train)\n",
    "pipe_lasso_standard_scaler_polynomial.score(X_test, y_test)\n",
    "# R2 значительное увеличение по сравнению с предыдущими Lasso"
   ]
  },
  {
   "cell_type": "code",
   "execution_count": 25,
   "metadata": {},
   "outputs": [
    {
     "data": {
      "text/plain": [
       "0.8299337208033138"
      ]
     },
     "execution_count": 25,
     "metadata": {},
     "output_type": "execute_result"
    }
   ],
   "source": [
    "pipe_ridge_minmax_scaler_polynomial = Pipeline(\n",
    "    [('scaler', MinMaxScaler()), ('polynomial', PolynomialFeatures(2)), ('model', Ridge())]\n",
    ")\n",
    "pipe_ridge_minmax_scaler_polynomial.fit(X_train, y_train)\n",
    "pipe_ridge_minmax_scaler_polynomial.score(X_test, y_test)\n",
    "# R2 увеличение по сравнению с предыдущими Ridge"
   ]
  },
  {
   "cell_type": "code",
   "execution_count": 26,
   "metadata": {},
   "outputs": [
    {
     "data": {
      "text/plain": [
       "0.2611262741735658"
      ]
     },
     "execution_count": 26,
     "metadata": {},
     "output_type": "execute_result"
    }
   ],
   "source": [
    "pipe_lasso_minmax_scaler_polynomial = Pipeline(\n",
    "    [('scaler', MinMaxScaler()), ('polynomial', PolynomialFeatures(2)), ('model', Lasso())]\n",
    ")\n",
    "pipe_lasso_minmax_scaler_polynomial.fit(X_train, y_train)\n",
    "pipe_lasso_minmax_scaler_polynomial.score(X_test, y_test)\n",
    "# R2 значительное уменьшение по сравнению как с чистым Lasso(), так и с StandardScaler() "
   ]
  },
  {
   "cell_type": "code",
   "execution_count": 27,
   "metadata": {},
   "outputs": [
    {
     "data": {
      "text/plain": [
       "0.8180465877243803"
      ]
     },
     "execution_count": 27,
     "metadata": {},
     "output_type": "execute_result"
    }
   ],
   "source": [
    "pipe_ridgecv_standard_scaler_polynomial = Pipeline(\n",
    "    [('scaler', StandardScaler()),\n",
    "     ('polynomial', PolynomialFeatures(2)),\n",
    "     ('model', RidgeCV(alphas=(1e-5, 1e-4, 1e-3, 1e-2, 1e-1, 1, 10, 100, 1_000, 10_000, 10_000)))]\n",
    ")\n",
    "pipe_ridgecv_standard_scaler_polynomial.fit(X_train, y_train)\n",
    "pipe_ridgecv_standard_scaler_polynomial.score(X_test, y_test)\n",
    "# R2 значительное увеличение по сравнению с предыдущими RidgeCV()"
   ]
  },
  {
   "cell_type": "code",
   "execution_count": 28,
   "metadata": {},
   "outputs": [
    {
     "data": {
      "text/plain": [
       "0.8122168137984359"
      ]
     },
     "execution_count": 28,
     "metadata": {},
     "output_type": "execute_result"
    }
   ],
   "source": [
    "pipe_lassocv_standard_scaler_polynomial = Pipeline(\n",
    "    [('scaler', StandardScaler()),\n",
    "     ('polynomial', PolynomialFeatures(2)),\n",
    "     ('model', LassoCV(alphas=(1e-5, 1e-4, 1e-3, 1e-2, 1e-1, 1, 10, 100, 1_000, 10_000, 10_000)))]\n",
    ")\n",
    "pipe_lassocv_standard_scaler_polynomial.fit(X_train, y_train)\n",
    "pipe_lassocv_standard_scaler_polynomial.score(X_test, y_test)\n",
    "# R2 значительное увеличение по сравнению с предыдущими LassoCV()"
   ]
  },
  {
   "cell_type": "code",
   "execution_count": 29,
   "metadata": {},
   "outputs": [
    {
     "data": {
      "text/plain": [
       "0.8500630422288056"
      ]
     },
     "execution_count": 29,
     "metadata": {},
     "output_type": "execute_result"
    }
   ],
   "source": [
    "pipe_ridgecv_minmax_scaler_polynomial = Pipeline(\n",
    "    [('scaler', MinMaxScaler()),\n",
    "     ('polynomial', PolynomialFeatures(2)),\n",
    "     ('model', RidgeCV(alphas=(1e-5, 1e-4, 1e-3, 1e-2, 1e-1, 1, 10, 100, 1_000, 10_000, 10_000)))]\n",
    ")\n",
    "pipe_ridgecv_minmax_scaler_polynomial.fit(X_train, y_train)\n",
    "pipe_ridgecv_minmax_scaler_polynomial.score(X_test, y_test)\n",
    "# R2 значительное увеличение по сравнению с предыдущими RidgeCV()"
   ]
  },
  {
   "cell_type": "code",
   "execution_count": 30,
   "metadata": {},
   "outputs": [
    {
     "data": {
      "text/plain": [
       "0.8390581680518306"
      ]
     },
     "execution_count": 30,
     "metadata": {},
     "output_type": "execute_result"
    }
   ],
   "source": [
    "pipe_lassocv_minmax_scaler_polynomial = Pipeline(\n",
    "    [('scaler', MinMaxScaler()),\n",
    "     ('polynomial', PolynomialFeatures(2)),\n",
    "     ('model', LassoCV(alphas=(1e-5, 1e-4, 1e-3, 1e-2, 1e-1, 1, 10, 100, 1_000, 10_000, 10_000)))]\n",
    ")\n",
    "pipe_lassocv_minmax_scaler_polynomial.fit(X_train, y_train)\n",
    "pipe_lassocv_minmax_scaler_polynomial.score(X_test, y_test)\n",
    "# R2 значительное увеличение по сравнению с предыдущими LassoCV()"
   ]
  },
  {
   "cell_type": "code",
   "execution_count": 31,
   "metadata": {},
   "outputs": [
    {
     "data": {
      "text/plain": [
       "0.8033778680650641"
      ]
     },
     "execution_count": 31,
     "metadata": {},
     "output_type": "execute_result"
    }
   ],
   "source": [
    "pipe_linear = Pipeline ( [('scaler', MinMaxScaler()), ('polynomial', PolynomialFeatures(2)), ('model', LinearRegression())])\n",
    "pipe_linear.fit(X_train, y_train)\n",
    "pipe_linear.score(X_test, y_test)\n",
    "# для себя"
   ]
  },
  {
   "cell_type": "markdown",
   "metadata": {},
   "source": [
    "7. Подберите наилучшую модель (используйте Pipeline, GridSearchSCV) подбирая тип регуляризации (L1,L2), коэффициент регуляризации, метод масштабирования и степень полинома в PolynomialFeatures. Выведите итоговые параметры и результат R2. Напишите как изменился R2 по сравнению с предыдущими экспериментами"
   ]
  },
  {
   "cell_type": "code",
   "execution_count": 32,
   "metadata": {},
   "outputs": [
    {
     "name": "stdout",
     "output_type": "stream",
     "text": [
      "{'model': RidgeCV(alphas=1), 'model__alphas': 1, 'polynomial__degree': 5, 'scaler': MinMaxScaler()}\n",
      "0.8593048637026933\n"
     ]
    }
   ],
   "source": [
    "pipeline = Pipeline([\n",
    "    ('scaler', StandardScaler()),\n",
    "    ('polynomial', PolynomialFeatures()),\n",
    "    ('model', LassoCV())\n",
    "])\n",
    "parameters = [\n",
    "    {\n",
    "        'scaler': [StandardScaler(), MinMaxScaler()],\n",
    "        'polynomial__degree': (0, 1, 2, 3, 4, 5, 6),\n",
    "        'model': [LassoCV(), RidgeCV()],\n",
    "        'model__alphas': (1e-5, 1e-4, 1e-3, 1e-2, 1e-1, 1, 10, 100, 1_000, 10_000, 10_000)\n",
    "    },\n",
    "]\n",
    "grid_search = GridSearchCV(pipeline, parameters)\n",
    "grid_search.fit(X_train, y_train)\n",
    "print(grid_search.best_params_)\n",
    "print(grid_search.score(X_test, y_test))\n",
    "\n",
    "# R2 выше всех предыдущих"
   ]
  },
  {
   "cell_type": "markdown",
   "metadata": {},
   "source": []
  },
  {
   "cell_type": "markdown",
   "metadata": {},
   "source": [
    "http://archive.ics.uci.edu/ml/datasets/Adult"
   ]
  },
  {
   "cell_type": "code",
   "execution_count": 33,
   "metadata": {},
   "outputs": [],
   "source": [
    "link = 'https://raw.githubusercontent.com/jbrownlee/Datasets/master/adult-all.csv'\n",
    "data = pd.read_csv(link, header=None)"
   ]
  },
  {
   "cell_type": "code",
   "execution_count": 34,
   "metadata": {},
   "outputs": [
    {
     "data": {
      "text/html": [
       "<div>\n",
       "<style scoped>\n",
       "    .dataframe tbody tr th:only-of-type {\n",
       "        vertical-align: middle;\n",
       "    }\n",
       "\n",
       "    .dataframe tbody tr th {\n",
       "        vertical-align: top;\n",
       "    }\n",
       "\n",
       "    .dataframe thead th {\n",
       "        text-align: right;\n",
       "    }\n",
       "</style>\n",
       "<table border=\"1\" class=\"dataframe\">\n",
       "  <thead>\n",
       "    <tr style=\"text-align: right;\">\n",
       "      <th></th>\n",
       "      <th>0</th>\n",
       "      <th>1</th>\n",
       "      <th>2</th>\n",
       "      <th>3</th>\n",
       "      <th>4</th>\n",
       "      <th>5</th>\n",
       "      <th>6</th>\n",
       "      <th>7</th>\n",
       "      <th>8</th>\n",
       "      <th>9</th>\n",
       "      <th>10</th>\n",
       "      <th>11</th>\n",
       "      <th>12</th>\n",
       "      <th>13</th>\n",
       "      <th>14</th>\n",
       "    </tr>\n",
       "  </thead>\n",
       "  <tbody>\n",
       "    <tr>\n",
       "      <th>0</th>\n",
       "      <td>39</td>\n",
       "      <td>State-gov</td>\n",
       "      <td>77516</td>\n",
       "      <td>Bachelors</td>\n",
       "      <td>13</td>\n",
       "      <td>Never-married</td>\n",
       "      <td>Adm-clerical</td>\n",
       "      <td>Not-in-family</td>\n",
       "      <td>White</td>\n",
       "      <td>Male</td>\n",
       "      <td>2174</td>\n",
       "      <td>0</td>\n",
       "      <td>40</td>\n",
       "      <td>United-States</td>\n",
       "      <td>&lt;=50K</td>\n",
       "    </tr>\n",
       "    <tr>\n",
       "      <th>1</th>\n",
       "      <td>50</td>\n",
       "      <td>Self-emp-not-inc</td>\n",
       "      <td>83311</td>\n",
       "      <td>Bachelors</td>\n",
       "      <td>13</td>\n",
       "      <td>Married-civ-spouse</td>\n",
       "      <td>Exec-managerial</td>\n",
       "      <td>Husband</td>\n",
       "      <td>White</td>\n",
       "      <td>Male</td>\n",
       "      <td>0</td>\n",
       "      <td>0</td>\n",
       "      <td>13</td>\n",
       "      <td>United-States</td>\n",
       "      <td>&lt;=50K</td>\n",
       "    </tr>\n",
       "    <tr>\n",
       "      <th>2</th>\n",
       "      <td>38</td>\n",
       "      <td>Private</td>\n",
       "      <td>215646</td>\n",
       "      <td>HS-grad</td>\n",
       "      <td>9</td>\n",
       "      <td>Divorced</td>\n",
       "      <td>Handlers-cleaners</td>\n",
       "      <td>Not-in-family</td>\n",
       "      <td>White</td>\n",
       "      <td>Male</td>\n",
       "      <td>0</td>\n",
       "      <td>0</td>\n",
       "      <td>40</td>\n",
       "      <td>United-States</td>\n",
       "      <td>&lt;=50K</td>\n",
       "    </tr>\n",
       "    <tr>\n",
       "      <th>3</th>\n",
       "      <td>53</td>\n",
       "      <td>Private</td>\n",
       "      <td>234721</td>\n",
       "      <td>11th</td>\n",
       "      <td>7</td>\n",
       "      <td>Married-civ-spouse</td>\n",
       "      <td>Handlers-cleaners</td>\n",
       "      <td>Husband</td>\n",
       "      <td>Black</td>\n",
       "      <td>Male</td>\n",
       "      <td>0</td>\n",
       "      <td>0</td>\n",
       "      <td>40</td>\n",
       "      <td>United-States</td>\n",
       "      <td>&lt;=50K</td>\n",
       "    </tr>\n",
       "    <tr>\n",
       "      <th>4</th>\n",
       "      <td>28</td>\n",
       "      <td>Private</td>\n",
       "      <td>338409</td>\n",
       "      <td>Bachelors</td>\n",
       "      <td>13</td>\n",
       "      <td>Married-civ-spouse</td>\n",
       "      <td>Prof-specialty</td>\n",
       "      <td>Wife</td>\n",
       "      <td>Black</td>\n",
       "      <td>Female</td>\n",
       "      <td>0</td>\n",
       "      <td>0</td>\n",
       "      <td>40</td>\n",
       "      <td>Cuba</td>\n",
       "      <td>&lt;=50K</td>\n",
       "    </tr>\n",
       "  </tbody>\n",
       "</table>\n",
       "</div>"
      ],
      "text/plain": [
       "   0                 1       2          3   4                   5   \\\n",
       "0  39         State-gov   77516  Bachelors  13       Never-married   \n",
       "1  50  Self-emp-not-inc   83311  Bachelors  13  Married-civ-spouse   \n",
       "2  38           Private  215646    HS-grad   9            Divorced   \n",
       "3  53           Private  234721       11th   7  Married-civ-spouse   \n",
       "4  28           Private  338409  Bachelors  13  Married-civ-spouse   \n",
       "\n",
       "                  6              7      8       9     10  11  12  \\\n",
       "0       Adm-clerical  Not-in-family  White    Male  2174   0  40   \n",
       "1    Exec-managerial        Husband  White    Male     0   0  13   \n",
       "2  Handlers-cleaners  Not-in-family  White    Male     0   0  40   \n",
       "3  Handlers-cleaners        Husband  Black    Male     0   0  40   \n",
       "4     Prof-specialty           Wife  Black  Female     0   0  40   \n",
       "\n",
       "              13     14  \n",
       "0  United-States  <=50K  \n",
       "1  United-States  <=50K  \n",
       "2  United-States  <=50K  \n",
       "3  United-States  <=50K  \n",
       "4           Cuba  <=50K  "
      ]
     },
     "execution_count": 34,
     "metadata": {},
     "output_type": "execute_result"
    }
   ],
   "source": [
    "data.head()"
   ]
  },
  {
   "cell_type": "markdown",
   "metadata": {},
   "source": [
    "8. Разделите выборку на признаки и целевую переменную(колонка со зачениями {<=50K,>50K}). Замените целевую переменную на числовые значения."
   ]
  },
  {
   "cell_type": "code",
   "execution_count": 35,
   "metadata": {},
   "outputs": [
    {
     "data": {
      "text/html": [
       "<div>\n",
       "<style scoped>\n",
       "    .dataframe tbody tr th:only-of-type {\n",
       "        vertical-align: middle;\n",
       "    }\n",
       "\n",
       "    .dataframe tbody tr th {\n",
       "        vertical-align: top;\n",
       "    }\n",
       "\n",
       "    .dataframe thead th {\n",
       "        text-align: right;\n",
       "    }\n",
       "</style>\n",
       "<table border=\"1\" class=\"dataframe\">\n",
       "  <thead>\n",
       "    <tr style=\"text-align: right;\">\n",
       "      <th></th>\n",
       "      <th>age</th>\n",
       "      <th>workclass</th>\n",
       "      <th>fnlwgt</th>\n",
       "      <th>education</th>\n",
       "      <th>education_num</th>\n",
       "      <th>marital_status</th>\n",
       "      <th>occupation</th>\n",
       "      <th>relationship</th>\n",
       "      <th>race</th>\n",
       "      <th>sex</th>\n",
       "      <th>capital_gain</th>\n",
       "      <th>capital_loss</th>\n",
       "      <th>hours_per_week</th>\n",
       "      <th>native_country</th>\n",
       "      <th>income_over_50k</th>\n",
       "    </tr>\n",
       "  </thead>\n",
       "  <tbody>\n",
       "    <tr>\n",
       "      <th>0</th>\n",
       "      <td>39</td>\n",
       "      <td>State-gov</td>\n",
       "      <td>77516</td>\n",
       "      <td>Bachelors</td>\n",
       "      <td>13</td>\n",
       "      <td>Never-married</td>\n",
       "      <td>Adm-clerical</td>\n",
       "      <td>Not-in-family</td>\n",
       "      <td>White</td>\n",
       "      <td>Male</td>\n",
       "      <td>2174</td>\n",
       "      <td>0</td>\n",
       "      <td>40</td>\n",
       "      <td>United-States</td>\n",
       "      <td>0</td>\n",
       "    </tr>\n",
       "    <tr>\n",
       "      <th>1</th>\n",
       "      <td>50</td>\n",
       "      <td>Self-emp-not-inc</td>\n",
       "      <td>83311</td>\n",
       "      <td>Bachelors</td>\n",
       "      <td>13</td>\n",
       "      <td>Married-civ-spouse</td>\n",
       "      <td>Exec-managerial</td>\n",
       "      <td>Husband</td>\n",
       "      <td>White</td>\n",
       "      <td>Male</td>\n",
       "      <td>0</td>\n",
       "      <td>0</td>\n",
       "      <td>13</td>\n",
       "      <td>United-States</td>\n",
       "      <td>0</td>\n",
       "    </tr>\n",
       "    <tr>\n",
       "      <th>2</th>\n",
       "      <td>38</td>\n",
       "      <td>Private</td>\n",
       "      <td>215646</td>\n",
       "      <td>HS-grad</td>\n",
       "      <td>9</td>\n",
       "      <td>Divorced</td>\n",
       "      <td>Handlers-cleaners</td>\n",
       "      <td>Not-in-family</td>\n",
       "      <td>White</td>\n",
       "      <td>Male</td>\n",
       "      <td>0</td>\n",
       "      <td>0</td>\n",
       "      <td>40</td>\n",
       "      <td>United-States</td>\n",
       "      <td>0</td>\n",
       "    </tr>\n",
       "    <tr>\n",
       "      <th>3</th>\n",
       "      <td>53</td>\n",
       "      <td>Private</td>\n",
       "      <td>234721</td>\n",
       "      <td>11th</td>\n",
       "      <td>7</td>\n",
       "      <td>Married-civ-spouse</td>\n",
       "      <td>Handlers-cleaners</td>\n",
       "      <td>Husband</td>\n",
       "      <td>Black</td>\n",
       "      <td>Male</td>\n",
       "      <td>0</td>\n",
       "      <td>0</td>\n",
       "      <td>40</td>\n",
       "      <td>United-States</td>\n",
       "      <td>0</td>\n",
       "    </tr>\n",
       "    <tr>\n",
       "      <th>4</th>\n",
       "      <td>28</td>\n",
       "      <td>Private</td>\n",
       "      <td>338409</td>\n",
       "      <td>Bachelors</td>\n",
       "      <td>13</td>\n",
       "      <td>Married-civ-spouse</td>\n",
       "      <td>Prof-specialty</td>\n",
       "      <td>Wife</td>\n",
       "      <td>Black</td>\n",
       "      <td>Female</td>\n",
       "      <td>0</td>\n",
       "      <td>0</td>\n",
       "      <td>40</td>\n",
       "      <td>Cuba</td>\n",
       "      <td>0</td>\n",
       "    </tr>\n",
       "  </tbody>\n",
       "</table>\n",
       "</div>"
      ],
      "text/plain": [
       "   age         workclass  fnlwgt  education  education_num  \\\n",
       "0   39         State-gov   77516  Bachelors             13   \n",
       "1   50  Self-emp-not-inc   83311  Bachelors             13   \n",
       "2   38           Private  215646    HS-grad              9   \n",
       "3   53           Private  234721       11th              7   \n",
       "4   28           Private  338409  Bachelors             13   \n",
       "\n",
       "       marital_status         occupation   relationship   race     sex  \\\n",
       "0       Never-married       Adm-clerical  Not-in-family  White    Male   \n",
       "1  Married-civ-spouse    Exec-managerial        Husband  White    Male   \n",
       "2            Divorced  Handlers-cleaners  Not-in-family  White    Male   \n",
       "3  Married-civ-spouse  Handlers-cleaners        Husband  Black    Male   \n",
       "4  Married-civ-spouse     Prof-specialty           Wife  Black  Female   \n",
       "\n",
       "   capital_gain  capital_loss  hours_per_week native_country  income_over_50k  \n",
       "0          2174             0              40  United-States                0  \n",
       "1             0             0              13  United-States                0  \n",
       "2             0             0              40  United-States                0  \n",
       "3             0             0              40  United-States                0  \n",
       "4             0             0              40           Cuba                0  "
      ]
     },
     "execution_count": 35,
     "metadata": {},
     "output_type": "execute_result"
    }
   ],
   "source": [
    "data.columns = [\n",
    "    'age',\n",
    "    'workclass',\n",
    "    'fnlwgt',\n",
    "    'education',\n",
    "    'education_num',\n",
    "    'marital_status',\n",
    "    'occupation',\n",
    "    'relationship',\n",
    "    'race',\n",
    "    'sex',\n",
    "    'capital_gain',\n",
    "    'capital_loss',\n",
    "    'hours_per_week',\n",
    "    'native_country',\n",
    "    'income'\n",
    "]\n",
    "data.loc[data.income == '<=50K', 'income_over_50k'] = 0\n",
    "data.loc[data.income == '>50K', 'income_over_50k'] = 1\n",
    "data.income_over_50k = data.income_over_50k.astype(int)\n",
    "data = data.drop('income', axis=1)\n",
    "data.head()"
   ]
  },
  {
   "cell_type": "code",
   "execution_count": 36,
   "metadata": {},
   "outputs": [],
   "source": [
    "y = data.income_over_50k\n",
    "X = data.drop('income_over_50k', axis=1)"
   ]
  },
  {
   "cell_type": "markdown",
   "metadata": {},
   "source": [
    "9. Выясните, присутствуют ли в данных пропуски. Заполните их самыми частыми значениями (испольуйте SimpleImputer)"
   ]
  },
  {
   "cell_type": "code",
   "execution_count": 37,
   "metadata": {},
   "outputs": [
    {
     "name": "stdout",
     "output_type": "stream",
     "text": [
      "age                0\n",
      "workclass          0\n",
      "fnlwgt             0\n",
      "education          0\n",
      "education_num      0\n",
      "marital_status     0\n",
      "occupation         0\n",
      "relationship       0\n",
      "race               0\n",
      "sex                0\n",
      "capital_gain       0\n",
      "capital_loss       0\n",
      "hours_per_week     0\n",
      "native_country     0\n",
      "income_over_50k    0\n",
      "dtype: int64\n"
     ]
    }
   ],
   "source": [
    "print(data.isnull().sum())\n",
    "# пропусков нет"
   ]
  },
  {
   "cell_type": "markdown",
   "metadata": {},
   "source": [
    "10. Выберите колонки с числовыми и категориальными переменными."
   ]
  },
  {
   "cell_type": "code",
   "execution_count": 38,
   "metadata": {},
   "outputs": [],
   "source": [
    "columns = X.columns\n",
    "X_num_cols = X._get_numeric_data().columns\n",
    "X_cat_cols = list(set(columns).difference(set(X_num_cols)))"
   ]
  },
  {
   "cell_type": "code",
   "execution_count": 39,
   "metadata": {},
   "outputs": [
    {
     "data": {
      "text/plain": [
       "['age',\n",
       " 'fnlwgt',\n",
       " 'education_num',\n",
       " 'capital_gain',\n",
       " 'capital_loss',\n",
       " 'hours_per_week']"
      ]
     },
     "execution_count": 39,
     "metadata": {},
     "output_type": "execute_result"
    }
   ],
   "source": [
    "X_num_cols = X_num_cols.to_list()\n",
    "X_num_cols"
   ]
  },
  {
   "cell_type": "code",
   "execution_count": 40,
   "metadata": {},
   "outputs": [
    {
     "data": {
      "text/plain": [
       "['marital_status',\n",
       " 'sex',\n",
       " 'relationship',\n",
       " 'race',\n",
       " 'occupation',\n",
       " 'native_country',\n",
       " 'education',\n",
       " 'workclass']"
      ]
     },
     "execution_count": 40,
     "metadata": {},
     "output_type": "execute_result"
    }
   ],
   "source": [
    "X_cat_cols"
   ]
  },
  {
   "cell_type": "markdown",
   "metadata": {},
   "source": [
    "11. Создайте пайплайн по обработке колонок(используйте OneHotEncoder,MinMaxScaler)."
   ]
  },
  {
   "cell_type": "code",
   "execution_count": 41,
   "metadata": {},
   "outputs": [],
   "source": [
    "categorical_transformer = OneHotEncoder(handle_unknown=\"ignore\")\n",
    "\n",
    "numeric_transformer = MinMaxScaler()\n",
    "\n",
    "preprocessor = ColumnTransformer(\n",
    "    transformers=[\n",
    "        (\"num\", numeric_transformer, X_num_cols),\n",
    "        (\"cat\", categorical_transformer, X_cat_cols),\n",
    "    ]\n",
    ")\n",
    "\n",
    "clf = Pipeline(\n",
    "    steps=[(\"preprocessor\", preprocessor), (\"classifier\", LogisticRegression())]\n",
    ")"
   ]
  },
  {
   "cell_type": "markdown",
   "metadata": {},
   "source": [
    "12. Посчитайте метрики accuracy и f1_score на предсказании только самого частого класса в целевой переменной."
   ]
  },
  {
   "cell_type": "code",
   "execution_count": 42,
   "metadata": {},
   "outputs": [
    {
     "data": {
      "text/plain": [
       "0    37155\n",
       "1    11687\n",
       "Name: income_over_50k, dtype: int64"
      ]
     },
     "execution_count": 42,
     "metadata": {},
     "output_type": "execute_result"
    }
   ],
   "source": [
    "y.value_counts()"
   ]
  },
  {
   "cell_type": "code",
   "execution_count": 43,
   "metadata": {},
   "outputs": [
    {
     "name": "stdout",
     "output_type": "stream",
     "text": [
      "Accuracy: 0.7607182343065395\n",
      "F1-score: 0.0\n"
     ]
    }
   ],
   "source": [
    "print(f'Accuracy: {accuracy_score(y, np.array([0 for _ in range(len(y))]))}')\n",
    "print(f'F1-score: {f1_score(y, np.array([0 for _ in range(len(y))]))}')"
   ]
  },
  {
   "cell_type": "markdown",
   "metadata": {},
   "source": [
    "13. Посчитайте cross_val_score по алгоритмам LogisticRegression, SVC, LinearSVC по метрикам accuracy и f1_score.\n",
    "Напишите удалось ли превзойти предыдущий результат."
   ]
  },
  {
   "cell_type": "code",
   "execution_count": 44,
   "metadata": {},
   "outputs": [
    {
     "name": "stdout",
     "output_type": "stream",
     "text": [
      "Accuracy: 0.7607182343065395\n",
      "F1-score: 0.0\n"
     ]
    }
   ],
   "source": [
    "print(f'Accuracy: {accuracy_score(y, np.array([0 for _ in range(len(y))]))}')\n",
    "print(f'F1-score: {f1_score(y, np.array([0 for _ in range(len(y))]))}')"
   ]
  },
  {
   "cell_type": "markdown",
   "metadata": {},
   "source": [
    "14. Можно заметить что в данных присутствуют значения '?', замените их самыми частыми значениями (испольуйте SimpleImputer)"
   ]
  },
  {
   "cell_type": "code",
   "execution_count": 45,
   "metadata": {},
   "outputs": [
    {
     "data": {
      "text/plain": [
       "age                  0\n",
       "workclass         2799\n",
       "fnlwgt               0\n",
       "education            0\n",
       "education_num        0\n",
       "marital_status       0\n",
       "occupation        2809\n",
       "relationship         0\n",
       "race                 0\n",
       "sex                  0\n",
       "capital_gain         0\n",
       "capital_loss         0\n",
       "hours_per_week       0\n",
       "native_country     857\n",
       "dtype: int64"
      ]
     },
     "execution_count": 45,
     "metadata": {},
     "output_type": "execute_result"
    }
   ],
   "source": [
    "(X == '?').sum()"
   ]
  },
  {
   "cell_type": "code",
   "execution_count": 46,
   "metadata": {},
   "outputs": [
    {
     "data": {
      "text/plain": [
       "age               0\n",
       "workclass         0\n",
       "fnlwgt            0\n",
       "education         0\n",
       "education_num     0\n",
       "marital_status    0\n",
       "occupation        0\n",
       "relationship      0\n",
       "race              0\n",
       "sex               0\n",
       "capital_gain      0\n",
       "capital_loss      0\n",
       "hours_per_week    0\n",
       "native_country    0\n",
       "dtype: int64"
      ]
     },
     "execution_count": 46,
     "metadata": {},
     "output_type": "execute_result"
    }
   ],
   "source": [
    "data_columns = X.columns\n",
    "imputer = SimpleImputer(missing_values='?', strategy='most_frequent')\n",
    "new_data = pd.DataFrame(imputer.fit_transform(X), columns=data_columns)\n",
    "(new_data== '?').sum()"
   ]
  },
  {
   "cell_type": "markdown",
   "metadata": {},
   "source": [
    "15. Посчитайте cross_val_score на новых данных. Напишите удалось ли улучшить результат."
   ]
  },
  {
   "cell_type": "code",
   "execution_count": 47,
   "metadata": {},
   "outputs": [
    {
     "name": "stdout",
     "output_type": "stream",
     "text": [
      "LogisticRegression\n",
      "accuracy 0.8510709028853158\n",
      "f1 0.6563242792121816\n",
      "\n",
      "-----------------------------------------\n",
      "\n",
      "LinearSVC\n",
      "accuracy 0.8529135478362626\n",
      "f1 0.6578163598233313\n",
      "\n",
      "-----------------------------------------\n",
      "\n",
      "SVC\n",
      "accuracy 0.8399739469040318\n",
      "f1 0.6200828429738441\n"
     ]
    }
   ],
   "source": [
    "clf_lg = Pipeline(\n",
    "    steps=[(\"preprocessor\", preprocessor), (\"classifier\", LogisticRegression())]\n",
    ")\n",
    "\n",
    "print('LogisticRegression')\n",
    "print('accuracy', cross_val_score(clf_lg, X, y, cv=5, scoring = 'accuracy').mean())\n",
    "print('f1', cross_val_score(clf_lg, X, y, cv=5, scoring = 'f1').mean())\n",
    "\n",
    "\n",
    "\n",
    "print()\n",
    "print('-----------------------------------------')\n",
    "print()\n",
    "\n",
    "clf_lsvc = Pipeline(\n",
    "    steps=[(\"preprocessor\", preprocessor), (\"classifier\", LinearSVC())]\n",
    ")\n",
    "print('LinearSVC')\n",
    "print('accuracy', cross_val_score(clf_lsvc, X, y, cv=5, scoring = 'accuracy').mean())\n",
    "print('f1', cross_val_score(clf_lsvc, X, y, cv=5, scoring = 'f1').mean())\n",
    "\n",
    "print()\n",
    "print('-----------------------------------------')\n",
    "print()\n",
    "\n",
    "clf_svc = Pipeline(\n",
    "    steps=[(\"preprocessor\", preprocessor), (\"classifier\", SVC())]\n",
    ")\n",
    "print('SVC')\n",
    "print('accuracy', cross_val_score(clf_svc, X, y, cv=5, scoring = 'accuracy').mean())\n",
    "print('f1', cross_val_score(clf_svc, X, y, cv=5, scoring = 'f1').mean())\n",
    "\n",
    "# Результат стал незначительно хуже"
   ]
  },
  {
   "cell_type": "markdown",
   "metadata": {},
   "source": [
    "16. Посчитайте cross_val_score, если просто удалить значения '?'. Напишите как изменился результат"
   ]
  },
  {
   "cell_type": "code",
   "execution_count": 48,
   "metadata": {},
   "outputs": [],
   "source": [
    "data_clear = data.replace('?', np.nan).dropna()"
   ]
  },
  {
   "cell_type": "code",
   "execution_count": 49,
   "metadata": {},
   "outputs": [
    {
     "name": "stdout",
     "output_type": "stream",
     "text": [
      "LogisticRegression\n",
      "accuracy 0.8468445746108516\n",
      "f1 0.6601244618889603\n",
      "\n",
      "-----------------------------------------\n",
      "\n",
      "LinearSVC\n",
      "accuracy 0.8485030154158197\n",
      "f1 0.6616132960278641\n",
      "\n",
      "-----------------------------------------\n",
      "\n",
      "SVC\n",
      "accuracy 0.8356995943179577\n",
      "f1 0.6267120053492474\n"
     ]
    }
   ],
   "source": [
    "y = data_clear.income_over_50k\n",
    "X = data_clear.drop('income_over_50k', axis=1)\n",
    "\n",
    "clf_lg = Pipeline(\n",
    "    steps=[(\"preprocessor\", preprocessor), (\"classifier\", LogisticRegression())]\n",
    ")\n",
    "\n",
    "print('LogisticRegression')\n",
    "print('accuracy', cross_val_score(clf_lg, X, y, cv=5, scoring = 'accuracy').mean())\n",
    "print('f1', cross_val_score(clf_lg, X, y, cv=5, scoring = 'f1').mean())\n",
    "\n",
    "\n",
    "\n",
    "print()\n",
    "print('-----------------------------------------')\n",
    "print()\n",
    "\n",
    "clf_lsvc = Pipeline(\n",
    "    steps=[(\"preprocessor\", preprocessor), (\"classifier\", LinearSVC())]\n",
    ")\n",
    "print('LinearSVC')\n",
    "print('accuracy', cross_val_score(clf_lsvc, X, y, cv=5, scoring = 'accuracy').mean())\n",
    "print('f1', cross_val_score(clf_lsvc, X, y, cv=5, scoring = 'f1').mean())\n",
    "\n",
    "print()\n",
    "print('-----------------------------------------')\n",
    "print()\n",
    "\n",
    "clf_svc = Pipeline(\n",
    "    steps=[(\"preprocessor\", preprocessor), (\"classifier\", SVC())]\n",
    ")\n",
    "print('SVC')\n",
    "print('accuracy', cross_val_score(clf_svc, X, y, cv=5, scoring = 'accuracy').mean())\n",
    "print('f1', cross_val_score(clf_svc, X, y, cv=5, scoring = 'f1').mean())"
   ]
  },
  {
   "cell_type": "markdown",
   "metadata": {},
   "source": [
    " 17. Посчитайте cross_val_score для RandomForestClassifier,GradientBoostingClassifier. Напишите как изменился результат и какой вывод можно из этого сделать."
   ]
  },
  {
   "cell_type": "code",
   "execution_count": 50,
   "metadata": {},
   "outputs": [
    {
     "name": "stdout",
     "output_type": "stream",
     "text": [
      "GradientBoostingClassifier\n",
      "accuracy 0.8629429514670492\n",
      "f1 0.6869948630650294\n",
      "\n",
      "-----------------------------------------\n",
      "\n",
      "RandomForestClassifier\n",
      "accuracy 0.8488346854845631\n",
      "f1 0.6694748979062587\n"
     ]
    }
   ],
   "source": [
    "clf_svc = Pipeline(\n",
    "    steps=[(\"preprocessor\", preprocessor), (\"classifier\", GradientBoostingClassifier())]\n",
    ")\n",
    "print('GradientBoostingClassifier')\n",
    "print('accuracy', cross_val_score(clf_svc, X, y, cv=5, scoring = 'accuracy').mean())\n",
    "print('f1', cross_val_score(clf_svc, X, y, cv=5, scoring = 'f1').mean())\n",
    "\n",
    "print()\n",
    "print('-----------------------------------------')\n",
    "print()\n",
    "\n",
    "clf_svc = Pipeline(\n",
    "    steps=[(\"preprocessor\", preprocessor), (\"classifier\", RandomForestClassifier())]\n",
    ")\n",
    "print('RandomForestClassifier')\n",
    "print('accuracy', cross_val_score(clf_svc, X, y, cv=5, scoring = 'accuracy').mean())\n",
    "print('f1', cross_val_score(clf_svc, X, y, cv=5, scoring = 'f1').mean())\n",
    "# GradientBoostingClassifier показал лучший результат"
   ]
  },
  {
   "cell_type": "markdown",
   "metadata": {},
   "source": [
    "18. Подберите наилучшую модель, подбирая методы обработки колонок - масштабирование признаков, кодирование признаков и заполнение пропусков. Параметры алгоритмов оставьте по умолчанию. Выведите итоговые параметры и результат accuracy и f1_score."
   ]
  },
  {
   "cell_type": "code",
   "execution_count": 51,
   "metadata": {},
   "outputs": [],
   "source": [
    "data = pd.read_csv(link, header=None)\n",
    "data.iloc[:,14] = data.iloc[:,14].replace(['<=50K','>50K'],[0,1])\n",
    "data_clear = data.replace('?', np.nan).dropna()\n",
    "X = data_clear.iloc[:,:-1]\n",
    "y = data_clear.iloc[:,-1]\n",
    "columns = X.columns\n",
    "X_num_cols = X._get_numeric_data().columns.to_list()\n",
    "X_cat_cols = list(set(columns).difference(set(X_num_cols)))"
   ]
  },
  {
   "cell_type": "code",
   "execution_count": 52,
   "metadata": {},
   "outputs": [
    {
     "name": "stdout",
     "output_type": "stream",
     "text": [
      "Fitting 5 folds for each of 8 candidates, totalling 40 fits\n",
      "{'clf': RandomForestClassifier(), 'prepare_columns': ColumnTransformer(transformers=[('scale', MinMaxScaler(),\n",
      "                                 [0, 2, 4, 10, 11, 12]),\n",
      "                                ('onehot', OneHotEncoder(),\n",
      "                                 [1, 3, 5, 6, 7, 8, 9, 13])])}\n"
     ]
    }
   ],
   "source": [
    "ct_1 = ColumnTransformer([\n",
    "    ('scale',  MinMaxScaler(), X_num_cols),\n",
    "    ('onehot', OneHotEncoder(),  X_cat_cols)\n",
    "])\n",
    "\n",
    "ct_2 = ColumnTransformer([\n",
    "    ('scale',  StandardScaler(), X_num_cols),\n",
    "    ('onehot', OneHotEncoder(),  X_cat_cols)\n",
    "])\n",
    "\n",
    "pipe = Pipeline(steps=[\n",
    "    ('fill_missing', SimpleImputer(missing_values='?', strategy='most_frequent')),\n",
    "    ('prepare_columns', 'passthrough'),\n",
    "    ('clf', 'passthrough')]\n",
    ")\n",
    "\n",
    "params = [\n",
    "    {\n",
    "        'prepare_columns': [ct_1, ct_2],\n",
    "        'clf': [\n",
    "            RandomForestClassifier(),\n",
    "            GradientBoostingClassifier(),\n",
    "            LogisticRegression(),\n",
    "            LinearSVC()\n",
    "        ]\n",
    "    }\n",
    "]\n",
    "\n",
    "search = GridSearchCV(pipe, params, scoring=['accuracy', 'f1'], refit='f1', n_jobs=-1, verbose=4)\n",
    "search.fit(X, y)\n",
    "print(search.best_params_)"
   ]
  },
  {
   "cell_type": "code",
   "execution_count": 53,
   "metadata": {},
   "outputs": [
    {
     "name": "stdout",
     "output_type": "stream",
     "text": [
      "F1-score: 0.8478632838314692\n",
      "Accuracy: 0.6693129648157652\n"
     ]
    }
   ],
   "source": [
    "f1_scores = np.array([search.cv_results_[f'split{i}_test_f1'][0] for i in range(5)])\n",
    "accuracy_scores = np.array([search.cv_results_[f'split{i}_test_accuracy'][0] for i in range(5)])\n",
    "print(f\"F1-score: {np.mean(accuracy_scores[~np.isnan(accuracy_scores)])}\")\n",
    "print(f\"Accuracy: {np.mean(f1_scores[~np.isnan(f1_scores)])}\")"
   ]
  }
 ],
 "metadata": {
  "kernelspec": {
   "display_name": "Python 3 (ipykernel)",
   "language": "python",
   "name": "python3"
  },
  "language_info": {
   "codemirror_mode": {
    "name": "ipython",
    "version": 3
   },
   "file_extension": ".py",
   "mimetype": "text/x-python",
   "name": "python",
   "nbconvert_exporter": "python",
   "pygments_lexer": "ipython3",
   "version": "3.9.6"
  }
 },
 "nbformat": 4,
 "nbformat_minor": 2
}
